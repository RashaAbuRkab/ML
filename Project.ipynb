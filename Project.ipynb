{
  "nbformat": 4,
  "nbformat_minor": 0,
  "metadata": {
    "colab": {
      "provenance": [],
      "collapsed_sections": [
        "xA85TyskagDA",
        "VVKlyJ1YUJ0P",
        "hmV39OfkUnrL",
        "VxNUWoxvt06l",
        "bbZrjfiRWMga",
        "WtxgtSJtov4s",
        "y3w_A1N6s8XM",
        "ZhBtMi_vZSMD",
        "k3DPysCsnmLl",
        "B_y9BauCmGEe",
        "5Y_loU4_8N9i",
        "yoXYo-8Q-GzS",
        "q2bjNwgA-k8-",
        "cWFc-ITxn4ox",
        "vifycKrgoOzy",
        "-JK-9ilMAyQH",
        "0DPGwst5j5OO",
        "-aJFA4NZqTvz",
        "OneST8EtBuoH",
        "u-8Jf6O0B4_U",
        "X4KNllsjCAeE",
        "qnj9-vEEqzZF",
        "Woc8x2MQCJHW",
        "TmpnaNm4CKNe",
        "_Ld2mR6aEJB7",
        "tM81NTg6rXmS",
        "7MbKlAOYm9iG",
        "qMPwBXdrrg-p",
        "9gWHwLncrzcs",
        "Hvhokgdv3fd2",
        "uXOuoQUz409P",
        "2WdTNYmev2hR",
        "HasjDSM6rcQa",
        "VTpk_F-OsDMK",
        "YADp28_-G_T5"
      ]
    },
    "kernelspec": {
      "name": "python3",
      "display_name": "Python 3"
    },
    "language_info": {
      "name": "python"
    }
  },
  "cells": [
    {
      "cell_type": "markdown",
      "source": [
        "# **Task 2 (Linear Regression)**\n",
        "----"
      ],
      "metadata": {
        "id": "Bl7qD_dU_Jnx"
      }
    },
    {
      "cell_type": "markdown",
      "source": [
        "### **Background of the task:**\n",
        "#### **After understanding the data and defining the features and label column We note :**\n",
        "\n",
        "* The data type for the Label column is Numeric Data So we Build a Regression model.\n",
        "*  the label column has real-valued Data so we build a Linear Regression Model.\n",
        "* We Have More Than One feature on the data to build a multi Linear Regression Model. \n",
        "\n",
        "\n",
        "\n"
      ],
      "metadata": {
        "id": "CxP8kvtHIxWs"
      }
    },
    {
      "cell_type": "markdown",
      "source": [
        "# **Data Manipulation**\n",
        "---"
      ],
      "metadata": {
        "id": "xA85TyskagDA"
      }
    },
    {
      "cell_type": "markdown",
      "source": [
        "## **Importing important libraries like :**\n"
      ],
      "metadata": {
        "id": "VVKlyJ1YUJ0P"
      }
    },
    {
      "cell_type": "code",
      "execution_count": null,
      "metadata": {
        "id": "p6DDBrUfUFC-"
      },
      "outputs": [],
      "source": [
        "import pandas as pd\n",
        "import numpy as np\n",
        "import seaborn as sns\n",
        "import matplotlib.pyplot as plt\n",
        "from sklearn.linear_model import LinearRegression\n",
        "from sklearn.linear_model import Lasso\n",
        "from sklearn.linear_model import LassoCV\n",
        "from sklearn.linear_model import Ridge\n",
        "from sklearn.linear_model import RidgeCV\n",
        "from sklearn import metrics\n",
        "from sklearn.metrics import mean_absolute_percentage_error\n",
        "from sklearn.metrics import r2_score\n",
        "from sklearn.model_selection import train_test_split\n",
        "from sklearn.preprocessing import MinMaxScaler\n",
        "from sklearn.preprocessing import StandardScaler, normalize\n",
        "from sklearn.model_selection import cross_val_score\n",
        "from sklearn.metrics import mean_squared_error\n",
        "from sklearn.model_selection import KFold\n",
        "from sklearn.decomposition import PCA\n",
        "from sklearn import preprocessing\n",
        "from sklearn.metrics import mean_squared_error,r2_score,mean_absolute_error\n",
        "from sklearn.linear_model import LinearRegression\n",
        "from sklearn.discriminant_analysis import LinearDiscriminantAnalysis\n",
        "from sklearn.manifold import Isomap\n",
        "from sklearn.manifold import LocallyLinearEmbedding"
      ]
    },
    {
      "cell_type": "markdown",
      "source": [
        "## **Loading the Data**\n",
        "\n",
        "\n",
        "\n",
        "\n",
        "**Dataset Link :** [Seoul Bike Sharing Demand](https://https://archive.ics.uci.edu/ml/datasets/Seoul+Bike+Sharing+Demand#)\n",
        "\n",
        "**Reading the Data from Google Drive with `read_csv` command**"
      ],
      "metadata": {
        "id": "hmV39OfkUnrL"
      }
    },
    {
      "cell_type": "code",
      "source": [
        "from google.colab import drive\n",
        "drive.mount('/content/drive')\n",
        "df = pd.read_csv(\"/content/drive/MyDrive/ML/SeoulBikeData.csv\", encoding= 'unicode_escape')\n",
        "df.head(5)"
      ],
      "metadata": {
        "id": "iZLRooPCUnY9",
        "colab": {
          "base_uri": "https://localhost:8080/"
        },
        "outputId": "261244e4-3e52-400b-d6fd-506178ee304b"
      },
      "execution_count": null,
      "outputs": [
        {
          "output_type": "stream",
          "name": "stdout",
          "text": [
            "Mounted at /content/drive\n"
          ]
        },
        {
          "output_type": "execute_result",
          "data": {
            "text/plain": [
              "        Date  Rented Bike Count  Hour  Temperature(°C)  Humidity(%)  \\\n",
              "0  1/12/2017                254     0             -5.2           37   \n",
              "1  1/12/2017                204     1             -5.5           38   \n",
              "2  1/12/2017                173     2             -6.0           39   \n",
              "3  1/12/2017                107     3             -6.2           40   \n",
              "4  1/12/2017                 78     4             -6.0           36   \n",
              "\n",
              "   Wind speed (m/s)  Visibility (10m)  Dew point temperature(°C)  \\\n",
              "0               2.2              2000                      -17.6   \n",
              "1               0.8              2000                      -17.6   \n",
              "2               1.0              2000                      -17.7   \n",
              "3               0.9              2000                      -17.6   \n",
              "4               2.3              2000                      -18.6   \n",
              "\n",
              "   Solar Radiation (MJ/m2)  Rainfall(mm)  Snowfall (cm) Seasons     Holiday  \\\n",
              "0                      0.0           0.0            0.0  Winter  No Holiday   \n",
              "1                      0.0           0.0            0.0  Winter  No Holiday   \n",
              "2                      0.0           0.0            0.0  Winter  No Holiday   \n",
              "3                      0.0           0.0            0.0  Winter  No Holiday   \n",
              "4                      0.0           0.0            0.0  Winter  No Holiday   \n",
              "\n",
              "  Functioning Day  \n",
              "0             Yes  \n",
              "1             Yes  \n",
              "2             Yes  \n",
              "3             Yes  \n",
              "4             Yes  "
            ],
            "text/html": [
              "\n",
              "  <div id=\"df-36b5d39c-2aec-4ac5-a2aa-082c410a7052\">\n",
              "    <div class=\"colab-df-container\">\n",
              "      <div>\n",
              "<style scoped>\n",
              "    .dataframe tbody tr th:only-of-type {\n",
              "        vertical-align: middle;\n",
              "    }\n",
              "\n",
              "    .dataframe tbody tr th {\n",
              "        vertical-align: top;\n",
              "    }\n",
              "\n",
              "    .dataframe thead th {\n",
              "        text-align: right;\n",
              "    }\n",
              "</style>\n",
              "<table border=\"1\" class=\"dataframe\">\n",
              "  <thead>\n",
              "    <tr style=\"text-align: right;\">\n",
              "      <th></th>\n",
              "      <th>Date</th>\n",
              "      <th>Rented Bike Count</th>\n",
              "      <th>Hour</th>\n",
              "      <th>Temperature(°C)</th>\n",
              "      <th>Humidity(%)</th>\n",
              "      <th>Wind speed (m/s)</th>\n",
              "      <th>Visibility (10m)</th>\n",
              "      <th>Dew point temperature(°C)</th>\n",
              "      <th>Solar Radiation (MJ/m2)</th>\n",
              "      <th>Rainfall(mm)</th>\n",
              "      <th>Snowfall (cm)</th>\n",
              "      <th>Seasons</th>\n",
              "      <th>Holiday</th>\n",
              "      <th>Functioning Day</th>\n",
              "    </tr>\n",
              "  </thead>\n",
              "  <tbody>\n",
              "    <tr>\n",
              "      <th>0</th>\n",
              "      <td>1/12/2017</td>\n",
              "      <td>254</td>\n",
              "      <td>0</td>\n",
              "      <td>-5.2</td>\n",
              "      <td>37</td>\n",
              "      <td>2.2</td>\n",
              "      <td>2000</td>\n",
              "      <td>-17.6</td>\n",
              "      <td>0.0</td>\n",
              "      <td>0.0</td>\n",
              "      <td>0.0</td>\n",
              "      <td>Winter</td>\n",
              "      <td>No Holiday</td>\n",
              "      <td>Yes</td>\n",
              "    </tr>\n",
              "    <tr>\n",
              "      <th>1</th>\n",
              "      <td>1/12/2017</td>\n",
              "      <td>204</td>\n",
              "      <td>1</td>\n",
              "      <td>-5.5</td>\n",
              "      <td>38</td>\n",
              "      <td>0.8</td>\n",
              "      <td>2000</td>\n",
              "      <td>-17.6</td>\n",
              "      <td>0.0</td>\n",
              "      <td>0.0</td>\n",
              "      <td>0.0</td>\n",
              "      <td>Winter</td>\n",
              "      <td>No Holiday</td>\n",
              "      <td>Yes</td>\n",
              "    </tr>\n",
              "    <tr>\n",
              "      <th>2</th>\n",
              "      <td>1/12/2017</td>\n",
              "      <td>173</td>\n",
              "      <td>2</td>\n",
              "      <td>-6.0</td>\n",
              "      <td>39</td>\n",
              "      <td>1.0</td>\n",
              "      <td>2000</td>\n",
              "      <td>-17.7</td>\n",
              "      <td>0.0</td>\n",
              "      <td>0.0</td>\n",
              "      <td>0.0</td>\n",
              "      <td>Winter</td>\n",
              "      <td>No Holiday</td>\n",
              "      <td>Yes</td>\n",
              "    </tr>\n",
              "    <tr>\n",
              "      <th>3</th>\n",
              "      <td>1/12/2017</td>\n",
              "      <td>107</td>\n",
              "      <td>3</td>\n",
              "      <td>-6.2</td>\n",
              "      <td>40</td>\n",
              "      <td>0.9</td>\n",
              "      <td>2000</td>\n",
              "      <td>-17.6</td>\n",
              "      <td>0.0</td>\n",
              "      <td>0.0</td>\n",
              "      <td>0.0</td>\n",
              "      <td>Winter</td>\n",
              "      <td>No Holiday</td>\n",
              "      <td>Yes</td>\n",
              "    </tr>\n",
              "    <tr>\n",
              "      <th>4</th>\n",
              "      <td>1/12/2017</td>\n",
              "      <td>78</td>\n",
              "      <td>4</td>\n",
              "      <td>-6.0</td>\n",
              "      <td>36</td>\n",
              "      <td>2.3</td>\n",
              "      <td>2000</td>\n",
              "      <td>-18.6</td>\n",
              "      <td>0.0</td>\n",
              "      <td>0.0</td>\n",
              "      <td>0.0</td>\n",
              "      <td>Winter</td>\n",
              "      <td>No Holiday</td>\n",
              "      <td>Yes</td>\n",
              "    </tr>\n",
              "  </tbody>\n",
              "</table>\n",
              "</div>\n",
              "      <button class=\"colab-df-convert\" onclick=\"convertToInteractive('df-36b5d39c-2aec-4ac5-a2aa-082c410a7052')\"\n",
              "              title=\"Convert this dataframe to an interactive table.\"\n",
              "              style=\"display:none;\">\n",
              "        \n",
              "  <svg xmlns=\"http://www.w3.org/2000/svg\" height=\"24px\"viewBox=\"0 0 24 24\"\n",
              "       width=\"24px\">\n",
              "    <path d=\"M0 0h24v24H0V0z\" fill=\"none\"/>\n",
              "    <path d=\"M18.56 5.44l.94 2.06.94-2.06 2.06-.94-2.06-.94-.94-2.06-.94 2.06-2.06.94zm-11 1L8.5 8.5l.94-2.06 2.06-.94-2.06-.94L8.5 2.5l-.94 2.06-2.06.94zm10 10l.94 2.06.94-2.06 2.06-.94-2.06-.94-.94-2.06-.94 2.06-2.06.94z\"/><path d=\"M17.41 7.96l-1.37-1.37c-.4-.4-.92-.59-1.43-.59-.52 0-1.04.2-1.43.59L10.3 9.45l-7.72 7.72c-.78.78-.78 2.05 0 2.83L4 21.41c.39.39.9.59 1.41.59.51 0 1.02-.2 1.41-.59l7.78-7.78 2.81-2.81c.8-.78.8-2.07 0-2.86zM5.41 20L4 18.59l7.72-7.72 1.47 1.35L5.41 20z\"/>\n",
              "  </svg>\n",
              "      </button>\n",
              "      \n",
              "  <style>\n",
              "    .colab-df-container {\n",
              "      display:flex;\n",
              "      flex-wrap:wrap;\n",
              "      gap: 12px;\n",
              "    }\n",
              "\n",
              "    .colab-df-convert {\n",
              "      background-color: #E8F0FE;\n",
              "      border: none;\n",
              "      border-radius: 50%;\n",
              "      cursor: pointer;\n",
              "      display: none;\n",
              "      fill: #1967D2;\n",
              "      height: 32px;\n",
              "      padding: 0 0 0 0;\n",
              "      width: 32px;\n",
              "    }\n",
              "\n",
              "    .colab-df-convert:hover {\n",
              "      background-color: #E2EBFA;\n",
              "      box-shadow: 0px 1px 2px rgba(60, 64, 67, 0.3), 0px 1px 3px 1px rgba(60, 64, 67, 0.15);\n",
              "      fill: #174EA6;\n",
              "    }\n",
              "\n",
              "    [theme=dark] .colab-df-convert {\n",
              "      background-color: #3B4455;\n",
              "      fill: #D2E3FC;\n",
              "    }\n",
              "\n",
              "    [theme=dark] .colab-df-convert:hover {\n",
              "      background-color: #434B5C;\n",
              "      box-shadow: 0px 1px 3px 1px rgba(0, 0, 0, 0.15);\n",
              "      filter: drop-shadow(0px 1px 2px rgba(0, 0, 0, 0.3));\n",
              "      fill: #FFFFFF;\n",
              "    }\n",
              "  </style>\n",
              "\n",
              "      <script>\n",
              "        const buttonEl =\n",
              "          document.querySelector('#df-36b5d39c-2aec-4ac5-a2aa-082c410a7052 button.colab-df-convert');\n",
              "        buttonEl.style.display =\n",
              "          google.colab.kernel.accessAllowed ? 'block' : 'none';\n",
              "\n",
              "        async function convertToInteractive(key) {\n",
              "          const element = document.querySelector('#df-36b5d39c-2aec-4ac5-a2aa-082c410a7052');\n",
              "          const dataTable =\n",
              "            await google.colab.kernel.invokeFunction('convertToInteractive',\n",
              "                                                     [key], {});\n",
              "          if (!dataTable) return;\n",
              "\n",
              "          const docLinkHtml = 'Like what you see? Visit the ' +\n",
              "            '<a target=\"_blank\" href=https://colab.research.google.com/notebooks/data_table.ipynb>data table notebook</a>'\n",
              "            + ' to learn more about interactive tables.';\n",
              "          element.innerHTML = '';\n",
              "          dataTable['output_type'] = 'display_data';\n",
              "          await google.colab.output.renderOutput(dataTable, element);\n",
              "          const docLink = document.createElement('div');\n",
              "          docLink.innerHTML = docLinkHtml;\n",
              "          element.appendChild(docLink);\n",
              "        }\n",
              "      </script>\n",
              "    </div>\n",
              "  </div>\n",
              "  "
            ]
          },
          "metadata": {},
          "execution_count": 2
        }
      ]
    },
    {
      "cell_type": "markdown",
      "source": [
        "#### **Modify The Date**"
      ],
      "metadata": {
        "id": "s9cZWw2YVHzj"
      }
    },
    {
      "cell_type": "code",
      "source": [
        "df['Date'] = pd.to_datetime(df['Date'])"
      ],
      "metadata": {
        "id": "jv3zuuNuVGPV"
      },
      "execution_count": null,
      "outputs": []
    },
    {
      "cell_type": "code",
      "source": [
        "def split_date(df):\n",
        "  df['Year'] = df[\"Date\"].apply(lambda t:t.year)\n",
        "  df['Month'] = df[\"Date\"].apply(lambda t:t.month)\n",
        "  df['Day'] = df[\"Date\"].apply(lambda t:t.day)\n",
        "  df = df.drop(['Date'], axis=1)\n",
        "  return df"
      ],
      "metadata": {
        "id": "oJ5Zfw7oVRIR"
      },
      "execution_count": null,
      "outputs": []
    },
    {
      "cell_type": "code",
      "source": [
        "df = split_date(df)\n",
        "df.head(5)"
      ],
      "metadata": {
        "id": "k9Xzlhl8VTTs",
        "colab": {
          "base_uri": "https://localhost:8080/"
        },
        "outputId": "6112c8e5-105a-46c0-cb39-a6d716b13d66"
      },
      "execution_count": null,
      "outputs": [
        {
          "output_type": "execute_result",
          "data": {
            "text/plain": [
              "   Rented Bike Count  Hour  Temperature(°C)  Humidity(%)  Wind speed (m/s)  \\\n",
              "0                254     0             -5.2           37               2.2   \n",
              "1                204     1             -5.5           38               0.8   \n",
              "2                173     2             -6.0           39               1.0   \n",
              "3                107     3             -6.2           40               0.9   \n",
              "4                 78     4             -6.0           36               2.3   \n",
              "\n",
              "   Visibility (10m)  Dew point temperature(°C)  Solar Radiation (MJ/m2)  \\\n",
              "0              2000                      -17.6                      0.0   \n",
              "1              2000                      -17.6                      0.0   \n",
              "2              2000                      -17.7                      0.0   \n",
              "3              2000                      -17.6                      0.0   \n",
              "4              2000                      -18.6                      0.0   \n",
              "\n",
              "   Rainfall(mm)  Snowfall (cm) Seasons     Holiday Functioning Day  Year  \\\n",
              "0           0.0            0.0  Winter  No Holiday             Yes  2017   \n",
              "1           0.0            0.0  Winter  No Holiday             Yes  2017   \n",
              "2           0.0            0.0  Winter  No Holiday             Yes  2017   \n",
              "3           0.0            0.0  Winter  No Holiday             Yes  2017   \n",
              "4           0.0            0.0  Winter  No Holiday             Yes  2017   \n",
              "\n",
              "   Month  Day  \n",
              "0      1   12  \n",
              "1      1   12  \n",
              "2      1   12  \n",
              "3      1   12  \n",
              "4      1   12  "
            ],
            "text/html": [
              "\n",
              "  <div id=\"df-e189e4a4-e120-4d07-a677-65c86751b030\">\n",
              "    <div class=\"colab-df-container\">\n",
              "      <div>\n",
              "<style scoped>\n",
              "    .dataframe tbody tr th:only-of-type {\n",
              "        vertical-align: middle;\n",
              "    }\n",
              "\n",
              "    .dataframe tbody tr th {\n",
              "        vertical-align: top;\n",
              "    }\n",
              "\n",
              "    .dataframe thead th {\n",
              "        text-align: right;\n",
              "    }\n",
              "</style>\n",
              "<table border=\"1\" class=\"dataframe\">\n",
              "  <thead>\n",
              "    <tr style=\"text-align: right;\">\n",
              "      <th></th>\n",
              "      <th>Rented Bike Count</th>\n",
              "      <th>Hour</th>\n",
              "      <th>Temperature(°C)</th>\n",
              "      <th>Humidity(%)</th>\n",
              "      <th>Wind speed (m/s)</th>\n",
              "      <th>Visibility (10m)</th>\n",
              "      <th>Dew point temperature(°C)</th>\n",
              "      <th>Solar Radiation (MJ/m2)</th>\n",
              "      <th>Rainfall(mm)</th>\n",
              "      <th>Snowfall (cm)</th>\n",
              "      <th>Seasons</th>\n",
              "      <th>Holiday</th>\n",
              "      <th>Functioning Day</th>\n",
              "      <th>Year</th>\n",
              "      <th>Month</th>\n",
              "      <th>Day</th>\n",
              "    </tr>\n",
              "  </thead>\n",
              "  <tbody>\n",
              "    <tr>\n",
              "      <th>0</th>\n",
              "      <td>254</td>\n",
              "      <td>0</td>\n",
              "      <td>-5.2</td>\n",
              "      <td>37</td>\n",
              "      <td>2.2</td>\n",
              "      <td>2000</td>\n",
              "      <td>-17.6</td>\n",
              "      <td>0.0</td>\n",
              "      <td>0.0</td>\n",
              "      <td>0.0</td>\n",
              "      <td>Winter</td>\n",
              "      <td>No Holiday</td>\n",
              "      <td>Yes</td>\n",
              "      <td>2017</td>\n",
              "      <td>1</td>\n",
              "      <td>12</td>\n",
              "    </tr>\n",
              "    <tr>\n",
              "      <th>1</th>\n",
              "      <td>204</td>\n",
              "      <td>1</td>\n",
              "      <td>-5.5</td>\n",
              "      <td>38</td>\n",
              "      <td>0.8</td>\n",
              "      <td>2000</td>\n",
              "      <td>-17.6</td>\n",
              "      <td>0.0</td>\n",
              "      <td>0.0</td>\n",
              "      <td>0.0</td>\n",
              "      <td>Winter</td>\n",
              "      <td>No Holiday</td>\n",
              "      <td>Yes</td>\n",
              "      <td>2017</td>\n",
              "      <td>1</td>\n",
              "      <td>12</td>\n",
              "    </tr>\n",
              "    <tr>\n",
              "      <th>2</th>\n",
              "      <td>173</td>\n",
              "      <td>2</td>\n",
              "      <td>-6.0</td>\n",
              "      <td>39</td>\n",
              "      <td>1.0</td>\n",
              "      <td>2000</td>\n",
              "      <td>-17.7</td>\n",
              "      <td>0.0</td>\n",
              "      <td>0.0</td>\n",
              "      <td>0.0</td>\n",
              "      <td>Winter</td>\n",
              "      <td>No Holiday</td>\n",
              "      <td>Yes</td>\n",
              "      <td>2017</td>\n",
              "      <td>1</td>\n",
              "      <td>12</td>\n",
              "    </tr>\n",
              "    <tr>\n",
              "      <th>3</th>\n",
              "      <td>107</td>\n",
              "      <td>3</td>\n",
              "      <td>-6.2</td>\n",
              "      <td>40</td>\n",
              "      <td>0.9</td>\n",
              "      <td>2000</td>\n",
              "      <td>-17.6</td>\n",
              "      <td>0.0</td>\n",
              "      <td>0.0</td>\n",
              "      <td>0.0</td>\n",
              "      <td>Winter</td>\n",
              "      <td>No Holiday</td>\n",
              "      <td>Yes</td>\n",
              "      <td>2017</td>\n",
              "      <td>1</td>\n",
              "      <td>12</td>\n",
              "    </tr>\n",
              "    <tr>\n",
              "      <th>4</th>\n",
              "      <td>78</td>\n",
              "      <td>4</td>\n",
              "      <td>-6.0</td>\n",
              "      <td>36</td>\n",
              "      <td>2.3</td>\n",
              "      <td>2000</td>\n",
              "      <td>-18.6</td>\n",
              "      <td>0.0</td>\n",
              "      <td>0.0</td>\n",
              "      <td>0.0</td>\n",
              "      <td>Winter</td>\n",
              "      <td>No Holiday</td>\n",
              "      <td>Yes</td>\n",
              "      <td>2017</td>\n",
              "      <td>1</td>\n",
              "      <td>12</td>\n",
              "    </tr>\n",
              "  </tbody>\n",
              "</table>\n",
              "</div>\n",
              "      <button class=\"colab-df-convert\" onclick=\"convertToInteractive('df-e189e4a4-e120-4d07-a677-65c86751b030')\"\n",
              "              title=\"Convert this dataframe to an interactive table.\"\n",
              "              style=\"display:none;\">\n",
              "        \n",
              "  <svg xmlns=\"http://www.w3.org/2000/svg\" height=\"24px\"viewBox=\"0 0 24 24\"\n",
              "       width=\"24px\">\n",
              "    <path d=\"M0 0h24v24H0V0z\" fill=\"none\"/>\n",
              "    <path d=\"M18.56 5.44l.94 2.06.94-2.06 2.06-.94-2.06-.94-.94-2.06-.94 2.06-2.06.94zm-11 1L8.5 8.5l.94-2.06 2.06-.94-2.06-.94L8.5 2.5l-.94 2.06-2.06.94zm10 10l.94 2.06.94-2.06 2.06-.94-2.06-.94-.94-2.06-.94 2.06-2.06.94z\"/><path d=\"M17.41 7.96l-1.37-1.37c-.4-.4-.92-.59-1.43-.59-.52 0-1.04.2-1.43.59L10.3 9.45l-7.72 7.72c-.78.78-.78 2.05 0 2.83L4 21.41c.39.39.9.59 1.41.59.51 0 1.02-.2 1.41-.59l7.78-7.78 2.81-2.81c.8-.78.8-2.07 0-2.86zM5.41 20L4 18.59l7.72-7.72 1.47 1.35L5.41 20z\"/>\n",
              "  </svg>\n",
              "      </button>\n",
              "      \n",
              "  <style>\n",
              "    .colab-df-container {\n",
              "      display:flex;\n",
              "      flex-wrap:wrap;\n",
              "      gap: 12px;\n",
              "    }\n",
              "\n",
              "    .colab-df-convert {\n",
              "      background-color: #E8F0FE;\n",
              "      border: none;\n",
              "      border-radius: 50%;\n",
              "      cursor: pointer;\n",
              "      display: none;\n",
              "      fill: #1967D2;\n",
              "      height: 32px;\n",
              "      padding: 0 0 0 0;\n",
              "      width: 32px;\n",
              "    }\n",
              "\n",
              "    .colab-df-convert:hover {\n",
              "      background-color: #E2EBFA;\n",
              "      box-shadow: 0px 1px 2px rgba(60, 64, 67, 0.3), 0px 1px 3px 1px rgba(60, 64, 67, 0.15);\n",
              "      fill: #174EA6;\n",
              "    }\n",
              "\n",
              "    [theme=dark] .colab-df-convert {\n",
              "      background-color: #3B4455;\n",
              "      fill: #D2E3FC;\n",
              "    }\n",
              "\n",
              "    [theme=dark] .colab-df-convert:hover {\n",
              "      background-color: #434B5C;\n",
              "      box-shadow: 0px 1px 3px 1px rgba(0, 0, 0, 0.15);\n",
              "      filter: drop-shadow(0px 1px 2px rgba(0, 0, 0, 0.3));\n",
              "      fill: #FFFFFF;\n",
              "    }\n",
              "  </style>\n",
              "\n",
              "      <script>\n",
              "        const buttonEl =\n",
              "          document.querySelector('#df-e189e4a4-e120-4d07-a677-65c86751b030 button.colab-df-convert');\n",
              "        buttonEl.style.display =\n",
              "          google.colab.kernel.accessAllowed ? 'block' : 'none';\n",
              "\n",
              "        async function convertToInteractive(key) {\n",
              "          const element = document.querySelector('#df-e189e4a4-e120-4d07-a677-65c86751b030');\n",
              "          const dataTable =\n",
              "            await google.colab.kernel.invokeFunction('convertToInteractive',\n",
              "                                                     [key], {});\n",
              "          if (!dataTable) return;\n",
              "\n",
              "          const docLinkHtml = 'Like what you see? Visit the ' +\n",
              "            '<a target=\"_blank\" href=https://colab.research.google.com/notebooks/data_table.ipynb>data table notebook</a>'\n",
              "            + ' to learn more about interactive tables.';\n",
              "          element.innerHTML = '';\n",
              "          dataTable['output_type'] = 'display_data';\n",
              "          await google.colab.output.renderOutput(dataTable, element);\n",
              "          const docLink = document.createElement('div');\n",
              "          docLink.innerHTML = docLinkHtml;\n",
              "          element.appendChild(docLink);\n",
              "        }\n",
              "      </script>\n",
              "    </div>\n",
              "  </div>\n",
              "  "
            ]
          },
          "metadata": {},
          "execution_count": 5
        }
      ]
    },
    {
      "cell_type": "markdown",
      "source": [
        "#### **Convert All Data To Numerical Type**\n"
      ],
      "metadata": {
        "id": "hiiRxHG-VZ77"
      }
    },
    {
      "cell_type": "code",
      "source": [
        "numerical = df.drop(['Seasons', 'Holiday', 'Functioning Day','Year'], axis = 1)\n",
        "numerical.head()"
      ],
      "metadata": {
        "id": "ABOm5NYXVY40",
        "colab": {
          "base_uri": "https://localhost:8080/"
        },
        "outputId": "b02c9451-ce4d-4c55-e22c-3017825499e5"
      },
      "execution_count": null,
      "outputs": [
        {
          "output_type": "execute_result",
          "data": {
            "text/plain": [
              "   Rented Bike Count  Hour  Temperature(°C)  Humidity(%)  Wind speed (m/s)  \\\n",
              "0                254     0             -5.2           37               2.2   \n",
              "1                204     1             -5.5           38               0.8   \n",
              "2                173     2             -6.0           39               1.0   \n",
              "3                107     3             -6.2           40               0.9   \n",
              "4                 78     4             -6.0           36               2.3   \n",
              "\n",
              "   Visibility (10m)  Dew point temperature(°C)  Solar Radiation (MJ/m2)  \\\n",
              "0              2000                      -17.6                      0.0   \n",
              "1              2000                      -17.6                      0.0   \n",
              "2              2000                      -17.7                      0.0   \n",
              "3              2000                      -17.6                      0.0   \n",
              "4              2000                      -18.6                      0.0   \n",
              "\n",
              "   Rainfall(mm)  Snowfall (cm)  Month  Day  \n",
              "0           0.0            0.0      1   12  \n",
              "1           0.0            0.0      1   12  \n",
              "2           0.0            0.0      1   12  \n",
              "3           0.0            0.0      1   12  \n",
              "4           0.0            0.0      1   12  "
            ],
            "text/html": [
              "\n",
              "  <div id=\"df-596261d3-8e66-47be-bd7e-342608fe3f6d\">\n",
              "    <div class=\"colab-df-container\">\n",
              "      <div>\n",
              "<style scoped>\n",
              "    .dataframe tbody tr th:only-of-type {\n",
              "        vertical-align: middle;\n",
              "    }\n",
              "\n",
              "    .dataframe tbody tr th {\n",
              "        vertical-align: top;\n",
              "    }\n",
              "\n",
              "    .dataframe thead th {\n",
              "        text-align: right;\n",
              "    }\n",
              "</style>\n",
              "<table border=\"1\" class=\"dataframe\">\n",
              "  <thead>\n",
              "    <tr style=\"text-align: right;\">\n",
              "      <th></th>\n",
              "      <th>Rented Bike Count</th>\n",
              "      <th>Hour</th>\n",
              "      <th>Temperature(°C)</th>\n",
              "      <th>Humidity(%)</th>\n",
              "      <th>Wind speed (m/s)</th>\n",
              "      <th>Visibility (10m)</th>\n",
              "      <th>Dew point temperature(°C)</th>\n",
              "      <th>Solar Radiation (MJ/m2)</th>\n",
              "      <th>Rainfall(mm)</th>\n",
              "      <th>Snowfall (cm)</th>\n",
              "      <th>Month</th>\n",
              "      <th>Day</th>\n",
              "    </tr>\n",
              "  </thead>\n",
              "  <tbody>\n",
              "    <tr>\n",
              "      <th>0</th>\n",
              "      <td>254</td>\n",
              "      <td>0</td>\n",
              "      <td>-5.2</td>\n",
              "      <td>37</td>\n",
              "      <td>2.2</td>\n",
              "      <td>2000</td>\n",
              "      <td>-17.6</td>\n",
              "      <td>0.0</td>\n",
              "      <td>0.0</td>\n",
              "      <td>0.0</td>\n",
              "      <td>1</td>\n",
              "      <td>12</td>\n",
              "    </tr>\n",
              "    <tr>\n",
              "      <th>1</th>\n",
              "      <td>204</td>\n",
              "      <td>1</td>\n",
              "      <td>-5.5</td>\n",
              "      <td>38</td>\n",
              "      <td>0.8</td>\n",
              "      <td>2000</td>\n",
              "      <td>-17.6</td>\n",
              "      <td>0.0</td>\n",
              "      <td>0.0</td>\n",
              "      <td>0.0</td>\n",
              "      <td>1</td>\n",
              "      <td>12</td>\n",
              "    </tr>\n",
              "    <tr>\n",
              "      <th>2</th>\n",
              "      <td>173</td>\n",
              "      <td>2</td>\n",
              "      <td>-6.0</td>\n",
              "      <td>39</td>\n",
              "      <td>1.0</td>\n",
              "      <td>2000</td>\n",
              "      <td>-17.7</td>\n",
              "      <td>0.0</td>\n",
              "      <td>0.0</td>\n",
              "      <td>0.0</td>\n",
              "      <td>1</td>\n",
              "      <td>12</td>\n",
              "    </tr>\n",
              "    <tr>\n",
              "      <th>3</th>\n",
              "      <td>107</td>\n",
              "      <td>3</td>\n",
              "      <td>-6.2</td>\n",
              "      <td>40</td>\n",
              "      <td>0.9</td>\n",
              "      <td>2000</td>\n",
              "      <td>-17.6</td>\n",
              "      <td>0.0</td>\n",
              "      <td>0.0</td>\n",
              "      <td>0.0</td>\n",
              "      <td>1</td>\n",
              "      <td>12</td>\n",
              "    </tr>\n",
              "    <tr>\n",
              "      <th>4</th>\n",
              "      <td>78</td>\n",
              "      <td>4</td>\n",
              "      <td>-6.0</td>\n",
              "      <td>36</td>\n",
              "      <td>2.3</td>\n",
              "      <td>2000</td>\n",
              "      <td>-18.6</td>\n",
              "      <td>0.0</td>\n",
              "      <td>0.0</td>\n",
              "      <td>0.0</td>\n",
              "      <td>1</td>\n",
              "      <td>12</td>\n",
              "    </tr>\n",
              "  </tbody>\n",
              "</table>\n",
              "</div>\n",
              "      <button class=\"colab-df-convert\" onclick=\"convertToInteractive('df-596261d3-8e66-47be-bd7e-342608fe3f6d')\"\n",
              "              title=\"Convert this dataframe to an interactive table.\"\n",
              "              style=\"display:none;\">\n",
              "        \n",
              "  <svg xmlns=\"http://www.w3.org/2000/svg\" height=\"24px\"viewBox=\"0 0 24 24\"\n",
              "       width=\"24px\">\n",
              "    <path d=\"M0 0h24v24H0V0z\" fill=\"none\"/>\n",
              "    <path d=\"M18.56 5.44l.94 2.06.94-2.06 2.06-.94-2.06-.94-.94-2.06-.94 2.06-2.06.94zm-11 1L8.5 8.5l.94-2.06 2.06-.94-2.06-.94L8.5 2.5l-.94 2.06-2.06.94zm10 10l.94 2.06.94-2.06 2.06-.94-2.06-.94-.94-2.06-.94 2.06-2.06.94z\"/><path d=\"M17.41 7.96l-1.37-1.37c-.4-.4-.92-.59-1.43-.59-.52 0-1.04.2-1.43.59L10.3 9.45l-7.72 7.72c-.78.78-.78 2.05 0 2.83L4 21.41c.39.39.9.59 1.41.59.51 0 1.02-.2 1.41-.59l7.78-7.78 2.81-2.81c.8-.78.8-2.07 0-2.86zM5.41 20L4 18.59l7.72-7.72 1.47 1.35L5.41 20z\"/>\n",
              "  </svg>\n",
              "      </button>\n",
              "      \n",
              "  <style>\n",
              "    .colab-df-container {\n",
              "      display:flex;\n",
              "      flex-wrap:wrap;\n",
              "      gap: 12px;\n",
              "    }\n",
              "\n",
              "    .colab-df-convert {\n",
              "      background-color: #E8F0FE;\n",
              "      border: none;\n",
              "      border-radius: 50%;\n",
              "      cursor: pointer;\n",
              "      display: none;\n",
              "      fill: #1967D2;\n",
              "      height: 32px;\n",
              "      padding: 0 0 0 0;\n",
              "      width: 32px;\n",
              "    }\n",
              "\n",
              "    .colab-df-convert:hover {\n",
              "      background-color: #E2EBFA;\n",
              "      box-shadow: 0px 1px 2px rgba(60, 64, 67, 0.3), 0px 1px 3px 1px rgba(60, 64, 67, 0.15);\n",
              "      fill: #174EA6;\n",
              "    }\n",
              "\n",
              "    [theme=dark] .colab-df-convert {\n",
              "      background-color: #3B4455;\n",
              "      fill: #D2E3FC;\n",
              "    }\n",
              "\n",
              "    [theme=dark] .colab-df-convert:hover {\n",
              "      background-color: #434B5C;\n",
              "      box-shadow: 0px 1px 3px 1px rgba(0, 0, 0, 0.15);\n",
              "      filter: drop-shadow(0px 1px 2px rgba(0, 0, 0, 0.3));\n",
              "      fill: #FFFFFF;\n",
              "    }\n",
              "  </style>\n",
              "\n",
              "      <script>\n",
              "        const buttonEl =\n",
              "          document.querySelector('#df-596261d3-8e66-47be-bd7e-342608fe3f6d button.colab-df-convert');\n",
              "        buttonEl.style.display =\n",
              "          google.colab.kernel.accessAllowed ? 'block' : 'none';\n",
              "\n",
              "        async function convertToInteractive(key) {\n",
              "          const element = document.querySelector('#df-596261d3-8e66-47be-bd7e-342608fe3f6d');\n",
              "          const dataTable =\n",
              "            await google.colab.kernel.invokeFunction('convertToInteractive',\n",
              "                                                     [key], {});\n",
              "          if (!dataTable) return;\n",
              "\n",
              "          const docLinkHtml = 'Like what you see? Visit the ' +\n",
              "            '<a target=\"_blank\" href=https://colab.research.google.com/notebooks/data_table.ipynb>data table notebook</a>'\n",
              "            + ' to learn more about interactive tables.';\n",
              "          element.innerHTML = '';\n",
              "          dataTable['output_type'] = 'display_data';\n",
              "          await google.colab.output.renderOutput(dataTable, element);\n",
              "          const docLink = document.createElement('div');\n",
              "          docLink.innerHTML = docLinkHtml;\n",
              "          element.appendChild(docLink);\n",
              "        }\n",
              "      </script>\n",
              "    </div>\n",
              "  </div>\n",
              "  "
            ]
          },
          "metadata": {},
          "execution_count": 6
        }
      ]
    },
    {
      "cell_type": "code",
      "source": [
        "categorical = df.filter(['Seasons', 'Holiday', 'Functioning Day'])\n",
        "categorical.head()"
      ],
      "metadata": {
        "id": "JmK8q2YAVpjN",
        "colab": {
          "base_uri": "https://localhost:8080/"
        },
        "outputId": "1ccac058-a40f-4100-f463-da2740d8e6ee"
      },
      "execution_count": null,
      "outputs": [
        {
          "output_type": "execute_result",
          "data": {
            "text/plain": [
              "  Seasons     Holiday Functioning Day\n",
              "0  Winter  No Holiday             Yes\n",
              "1  Winter  No Holiday             Yes\n",
              "2  Winter  No Holiday             Yes\n",
              "3  Winter  No Holiday             Yes\n",
              "4  Winter  No Holiday             Yes"
            ],
            "text/html": [
              "\n",
              "  <div id=\"df-62d4432a-2467-4aaf-a592-4911c4a6dca4\">\n",
              "    <div class=\"colab-df-container\">\n",
              "      <div>\n",
              "<style scoped>\n",
              "    .dataframe tbody tr th:only-of-type {\n",
              "        vertical-align: middle;\n",
              "    }\n",
              "\n",
              "    .dataframe tbody tr th {\n",
              "        vertical-align: top;\n",
              "    }\n",
              "\n",
              "    .dataframe thead th {\n",
              "        text-align: right;\n",
              "    }\n",
              "</style>\n",
              "<table border=\"1\" class=\"dataframe\">\n",
              "  <thead>\n",
              "    <tr style=\"text-align: right;\">\n",
              "      <th></th>\n",
              "      <th>Seasons</th>\n",
              "      <th>Holiday</th>\n",
              "      <th>Functioning Day</th>\n",
              "    </tr>\n",
              "  </thead>\n",
              "  <tbody>\n",
              "    <tr>\n",
              "      <th>0</th>\n",
              "      <td>Winter</td>\n",
              "      <td>No Holiday</td>\n",
              "      <td>Yes</td>\n",
              "    </tr>\n",
              "    <tr>\n",
              "      <th>1</th>\n",
              "      <td>Winter</td>\n",
              "      <td>No Holiday</td>\n",
              "      <td>Yes</td>\n",
              "    </tr>\n",
              "    <tr>\n",
              "      <th>2</th>\n",
              "      <td>Winter</td>\n",
              "      <td>No Holiday</td>\n",
              "      <td>Yes</td>\n",
              "    </tr>\n",
              "    <tr>\n",
              "      <th>3</th>\n",
              "      <td>Winter</td>\n",
              "      <td>No Holiday</td>\n",
              "      <td>Yes</td>\n",
              "    </tr>\n",
              "    <tr>\n",
              "      <th>4</th>\n",
              "      <td>Winter</td>\n",
              "      <td>No Holiday</td>\n",
              "      <td>Yes</td>\n",
              "    </tr>\n",
              "  </tbody>\n",
              "</table>\n",
              "</div>\n",
              "      <button class=\"colab-df-convert\" onclick=\"convertToInteractive('df-62d4432a-2467-4aaf-a592-4911c4a6dca4')\"\n",
              "              title=\"Convert this dataframe to an interactive table.\"\n",
              "              style=\"display:none;\">\n",
              "        \n",
              "  <svg xmlns=\"http://www.w3.org/2000/svg\" height=\"24px\"viewBox=\"0 0 24 24\"\n",
              "       width=\"24px\">\n",
              "    <path d=\"M0 0h24v24H0V0z\" fill=\"none\"/>\n",
              "    <path d=\"M18.56 5.44l.94 2.06.94-2.06 2.06-.94-2.06-.94-.94-2.06-.94 2.06-2.06.94zm-11 1L8.5 8.5l.94-2.06 2.06-.94-2.06-.94L8.5 2.5l-.94 2.06-2.06.94zm10 10l.94 2.06.94-2.06 2.06-.94-2.06-.94-.94-2.06-.94 2.06-2.06.94z\"/><path d=\"M17.41 7.96l-1.37-1.37c-.4-.4-.92-.59-1.43-.59-.52 0-1.04.2-1.43.59L10.3 9.45l-7.72 7.72c-.78.78-.78 2.05 0 2.83L4 21.41c.39.39.9.59 1.41.59.51 0 1.02-.2 1.41-.59l7.78-7.78 2.81-2.81c.8-.78.8-2.07 0-2.86zM5.41 20L4 18.59l7.72-7.72 1.47 1.35L5.41 20z\"/>\n",
              "  </svg>\n",
              "      </button>\n",
              "      \n",
              "  <style>\n",
              "    .colab-df-container {\n",
              "      display:flex;\n",
              "      flex-wrap:wrap;\n",
              "      gap: 12px;\n",
              "    }\n",
              "\n",
              "    .colab-df-convert {\n",
              "      background-color: #E8F0FE;\n",
              "      border: none;\n",
              "      border-radius: 50%;\n",
              "      cursor: pointer;\n",
              "      display: none;\n",
              "      fill: #1967D2;\n",
              "      height: 32px;\n",
              "      padding: 0 0 0 0;\n",
              "      width: 32px;\n",
              "    }\n",
              "\n",
              "    .colab-df-convert:hover {\n",
              "      background-color: #E2EBFA;\n",
              "      box-shadow: 0px 1px 2px rgba(60, 64, 67, 0.3), 0px 1px 3px 1px rgba(60, 64, 67, 0.15);\n",
              "      fill: #174EA6;\n",
              "    }\n",
              "\n",
              "    [theme=dark] .colab-df-convert {\n",
              "      background-color: #3B4455;\n",
              "      fill: #D2E3FC;\n",
              "    }\n",
              "\n",
              "    [theme=dark] .colab-df-convert:hover {\n",
              "      background-color: #434B5C;\n",
              "      box-shadow: 0px 1px 3px 1px rgba(0, 0, 0, 0.15);\n",
              "      filter: drop-shadow(0px 1px 2px rgba(0, 0, 0, 0.3));\n",
              "      fill: #FFFFFF;\n",
              "    }\n",
              "  </style>\n",
              "\n",
              "      <script>\n",
              "        const buttonEl =\n",
              "          document.querySelector('#df-62d4432a-2467-4aaf-a592-4911c4a6dca4 button.colab-df-convert');\n",
              "        buttonEl.style.display =\n",
              "          google.colab.kernel.accessAllowed ? 'block' : 'none';\n",
              "\n",
              "        async function convertToInteractive(key) {\n",
              "          const element = document.querySelector('#df-62d4432a-2467-4aaf-a592-4911c4a6dca4');\n",
              "          const dataTable =\n",
              "            await google.colab.kernel.invokeFunction('convertToInteractive',\n",
              "                                                     [key], {});\n",
              "          if (!dataTable) return;\n",
              "\n",
              "          const docLinkHtml = 'Like what you see? Visit the ' +\n",
              "            '<a target=\"_blank\" href=https://colab.research.google.com/notebooks/data_table.ipynb>data table notebook</a>'\n",
              "            + ' to learn more about interactive tables.';\n",
              "          element.innerHTML = '';\n",
              "          dataTable['output_type'] = 'display_data';\n",
              "          await google.colab.output.renderOutput(dataTable, element);\n",
              "          const docLink = document.createElement('div');\n",
              "          docLink.innerHTML = docLinkHtml;\n",
              "          element.appendChild(docLink);\n",
              "        }\n",
              "      </script>\n",
              "    </div>\n",
              "  </div>\n",
              "  "
            ]
          },
          "metadata": {},
          "execution_count": 7
        }
      ]
    },
    {
      "cell_type": "code",
      "source": [
        "cat_numerical = pd.get_dummies(categorical,drop_first=True)\n",
        "cat_numerical.head()"
      ],
      "metadata": {
        "id": "mq_krTcIVsUN",
        "colab": {
          "base_uri": "https://localhost:8080/"
        },
        "outputId": "383783e6-6832-44b0-8305-45ddbdbe6950"
      },
      "execution_count": null,
      "outputs": [
        {
          "output_type": "execute_result",
          "data": {
            "text/plain": [
              "   Seasons_Spring  Seasons_Summer  Seasons_Winter  Holiday_No Holiday  \\\n",
              "0               0               0               1                   1   \n",
              "1               0               0               1                   1   \n",
              "2               0               0               1                   1   \n",
              "3               0               0               1                   1   \n",
              "4               0               0               1                   1   \n",
              "\n",
              "   Functioning Day_Yes  \n",
              "0                    1  \n",
              "1                    1  \n",
              "2                    1  \n",
              "3                    1  \n",
              "4                    1  "
            ],
            "text/html": [
              "\n",
              "  <div id=\"df-7ae30f6e-a5e8-42be-9c2b-6433bfab4273\">\n",
              "    <div class=\"colab-df-container\">\n",
              "      <div>\n",
              "<style scoped>\n",
              "    .dataframe tbody tr th:only-of-type {\n",
              "        vertical-align: middle;\n",
              "    }\n",
              "\n",
              "    .dataframe tbody tr th {\n",
              "        vertical-align: top;\n",
              "    }\n",
              "\n",
              "    .dataframe thead th {\n",
              "        text-align: right;\n",
              "    }\n",
              "</style>\n",
              "<table border=\"1\" class=\"dataframe\">\n",
              "  <thead>\n",
              "    <tr style=\"text-align: right;\">\n",
              "      <th></th>\n",
              "      <th>Seasons_Spring</th>\n",
              "      <th>Seasons_Summer</th>\n",
              "      <th>Seasons_Winter</th>\n",
              "      <th>Holiday_No Holiday</th>\n",
              "      <th>Functioning Day_Yes</th>\n",
              "    </tr>\n",
              "  </thead>\n",
              "  <tbody>\n",
              "    <tr>\n",
              "      <th>0</th>\n",
              "      <td>0</td>\n",
              "      <td>0</td>\n",
              "      <td>1</td>\n",
              "      <td>1</td>\n",
              "      <td>1</td>\n",
              "    </tr>\n",
              "    <tr>\n",
              "      <th>1</th>\n",
              "      <td>0</td>\n",
              "      <td>0</td>\n",
              "      <td>1</td>\n",
              "      <td>1</td>\n",
              "      <td>1</td>\n",
              "    </tr>\n",
              "    <tr>\n",
              "      <th>2</th>\n",
              "      <td>0</td>\n",
              "      <td>0</td>\n",
              "      <td>1</td>\n",
              "      <td>1</td>\n",
              "      <td>1</td>\n",
              "    </tr>\n",
              "    <tr>\n",
              "      <th>3</th>\n",
              "      <td>0</td>\n",
              "      <td>0</td>\n",
              "      <td>1</td>\n",
              "      <td>1</td>\n",
              "      <td>1</td>\n",
              "    </tr>\n",
              "    <tr>\n",
              "      <th>4</th>\n",
              "      <td>0</td>\n",
              "      <td>0</td>\n",
              "      <td>1</td>\n",
              "      <td>1</td>\n",
              "      <td>1</td>\n",
              "    </tr>\n",
              "  </tbody>\n",
              "</table>\n",
              "</div>\n",
              "      <button class=\"colab-df-convert\" onclick=\"convertToInteractive('df-7ae30f6e-a5e8-42be-9c2b-6433bfab4273')\"\n",
              "              title=\"Convert this dataframe to an interactive table.\"\n",
              "              style=\"display:none;\">\n",
              "        \n",
              "  <svg xmlns=\"http://www.w3.org/2000/svg\" height=\"24px\"viewBox=\"0 0 24 24\"\n",
              "       width=\"24px\">\n",
              "    <path d=\"M0 0h24v24H0V0z\" fill=\"none\"/>\n",
              "    <path d=\"M18.56 5.44l.94 2.06.94-2.06 2.06-.94-2.06-.94-.94-2.06-.94 2.06-2.06.94zm-11 1L8.5 8.5l.94-2.06 2.06-.94-2.06-.94L8.5 2.5l-.94 2.06-2.06.94zm10 10l.94 2.06.94-2.06 2.06-.94-2.06-.94-.94-2.06-.94 2.06-2.06.94z\"/><path d=\"M17.41 7.96l-1.37-1.37c-.4-.4-.92-.59-1.43-.59-.52 0-1.04.2-1.43.59L10.3 9.45l-7.72 7.72c-.78.78-.78 2.05 0 2.83L4 21.41c.39.39.9.59 1.41.59.51 0 1.02-.2 1.41-.59l7.78-7.78 2.81-2.81c.8-.78.8-2.07 0-2.86zM5.41 20L4 18.59l7.72-7.72 1.47 1.35L5.41 20z\"/>\n",
              "  </svg>\n",
              "      </button>\n",
              "      \n",
              "  <style>\n",
              "    .colab-df-container {\n",
              "      display:flex;\n",
              "      flex-wrap:wrap;\n",
              "      gap: 12px;\n",
              "    }\n",
              "\n",
              "    .colab-df-convert {\n",
              "      background-color: #E8F0FE;\n",
              "      border: none;\n",
              "      border-radius: 50%;\n",
              "      cursor: pointer;\n",
              "      display: none;\n",
              "      fill: #1967D2;\n",
              "      height: 32px;\n",
              "      padding: 0 0 0 0;\n",
              "      width: 32px;\n",
              "    }\n",
              "\n",
              "    .colab-df-convert:hover {\n",
              "      background-color: #E2EBFA;\n",
              "      box-shadow: 0px 1px 2px rgba(60, 64, 67, 0.3), 0px 1px 3px 1px rgba(60, 64, 67, 0.15);\n",
              "      fill: #174EA6;\n",
              "    }\n",
              "\n",
              "    [theme=dark] .colab-df-convert {\n",
              "      background-color: #3B4455;\n",
              "      fill: #D2E3FC;\n",
              "    }\n",
              "\n",
              "    [theme=dark] .colab-df-convert:hover {\n",
              "      background-color: #434B5C;\n",
              "      box-shadow: 0px 1px 3px 1px rgba(0, 0, 0, 0.15);\n",
              "      filter: drop-shadow(0px 1px 2px rgba(0, 0, 0, 0.3));\n",
              "      fill: #FFFFFF;\n",
              "    }\n",
              "  </style>\n",
              "\n",
              "      <script>\n",
              "        const buttonEl =\n",
              "          document.querySelector('#df-7ae30f6e-a5e8-42be-9c2b-6433bfab4273 button.colab-df-convert');\n",
              "        buttonEl.style.display =\n",
              "          google.colab.kernel.accessAllowed ? 'block' : 'none';\n",
              "\n",
              "        async function convertToInteractive(key) {\n",
              "          const element = document.querySelector('#df-7ae30f6e-a5e8-42be-9c2b-6433bfab4273');\n",
              "          const dataTable =\n",
              "            await google.colab.kernel.invokeFunction('convertToInteractive',\n",
              "                                                     [key], {});\n",
              "          if (!dataTable) return;\n",
              "\n",
              "          const docLinkHtml = 'Like what you see? Visit the ' +\n",
              "            '<a target=\"_blank\" href=https://colab.research.google.com/notebooks/data_table.ipynb>data table notebook</a>'\n",
              "            + ' to learn more about interactive tables.';\n",
              "          element.innerHTML = '';\n",
              "          dataTable['output_type'] = 'display_data';\n",
              "          await google.colab.output.renderOutput(dataTable, element);\n",
              "          const docLink = document.createElement('div');\n",
              "          docLink.innerHTML = docLinkHtml;\n",
              "          element.appendChild(docLink);\n",
              "        }\n",
              "      </script>\n",
              "    </div>\n",
              "  </div>\n",
              "  "
            ]
          },
          "metadata": {},
          "execution_count": 8
        }
      ]
    },
    {
      "cell_type": "markdown",
      "source": [
        "### **Final Data**"
      ],
      "metadata": {
        "id": "objz9C1IV2nm"
      }
    },
    {
      "cell_type": "code",
      "source": [
        "data = pd.concat([numerical, cat_numerical], axis = 1)\n",
        "data.head()"
      ],
      "metadata": {
        "id": "N_oNVvLMVxOI",
        "colab": {
          "base_uri": "https://localhost:8080/"
        },
        "outputId": "d7d66df3-e61f-433d-fe18-d349862fec38"
      },
      "execution_count": null,
      "outputs": [
        {
          "output_type": "execute_result",
          "data": {
            "text/plain": [
              "   Rented Bike Count  Hour  Temperature(°C)  Humidity(%)  Wind speed (m/s)  \\\n",
              "0                254     0             -5.2           37               2.2   \n",
              "1                204     1             -5.5           38               0.8   \n",
              "2                173     2             -6.0           39               1.0   \n",
              "3                107     3             -6.2           40               0.9   \n",
              "4                 78     4             -6.0           36               2.3   \n",
              "\n",
              "   Visibility (10m)  Dew point temperature(°C)  Solar Radiation (MJ/m2)  \\\n",
              "0              2000                      -17.6                      0.0   \n",
              "1              2000                      -17.6                      0.0   \n",
              "2              2000                      -17.7                      0.0   \n",
              "3              2000                      -17.6                      0.0   \n",
              "4              2000                      -18.6                      0.0   \n",
              "\n",
              "   Rainfall(mm)  Snowfall (cm)  Month  Day  Seasons_Spring  Seasons_Summer  \\\n",
              "0           0.0            0.0      1   12               0               0   \n",
              "1           0.0            0.0      1   12               0               0   \n",
              "2           0.0            0.0      1   12               0               0   \n",
              "3           0.0            0.0      1   12               0               0   \n",
              "4           0.0            0.0      1   12               0               0   \n",
              "\n",
              "   Seasons_Winter  Holiday_No Holiday  Functioning Day_Yes  \n",
              "0               1                   1                    1  \n",
              "1               1                   1                    1  \n",
              "2               1                   1                    1  \n",
              "3               1                   1                    1  \n",
              "4               1                   1                    1  "
            ],
            "text/html": [
              "\n",
              "  <div id=\"df-682cb7cb-c31b-4d06-a940-78c1803f724b\">\n",
              "    <div class=\"colab-df-container\">\n",
              "      <div>\n",
              "<style scoped>\n",
              "    .dataframe tbody tr th:only-of-type {\n",
              "        vertical-align: middle;\n",
              "    }\n",
              "\n",
              "    .dataframe tbody tr th {\n",
              "        vertical-align: top;\n",
              "    }\n",
              "\n",
              "    .dataframe thead th {\n",
              "        text-align: right;\n",
              "    }\n",
              "</style>\n",
              "<table border=\"1\" class=\"dataframe\">\n",
              "  <thead>\n",
              "    <tr style=\"text-align: right;\">\n",
              "      <th></th>\n",
              "      <th>Rented Bike Count</th>\n",
              "      <th>Hour</th>\n",
              "      <th>Temperature(°C)</th>\n",
              "      <th>Humidity(%)</th>\n",
              "      <th>Wind speed (m/s)</th>\n",
              "      <th>Visibility (10m)</th>\n",
              "      <th>Dew point temperature(°C)</th>\n",
              "      <th>Solar Radiation (MJ/m2)</th>\n",
              "      <th>Rainfall(mm)</th>\n",
              "      <th>Snowfall (cm)</th>\n",
              "      <th>Month</th>\n",
              "      <th>Day</th>\n",
              "      <th>Seasons_Spring</th>\n",
              "      <th>Seasons_Summer</th>\n",
              "      <th>Seasons_Winter</th>\n",
              "      <th>Holiday_No Holiday</th>\n",
              "      <th>Functioning Day_Yes</th>\n",
              "    </tr>\n",
              "  </thead>\n",
              "  <tbody>\n",
              "    <tr>\n",
              "      <th>0</th>\n",
              "      <td>254</td>\n",
              "      <td>0</td>\n",
              "      <td>-5.2</td>\n",
              "      <td>37</td>\n",
              "      <td>2.2</td>\n",
              "      <td>2000</td>\n",
              "      <td>-17.6</td>\n",
              "      <td>0.0</td>\n",
              "      <td>0.0</td>\n",
              "      <td>0.0</td>\n",
              "      <td>1</td>\n",
              "      <td>12</td>\n",
              "      <td>0</td>\n",
              "      <td>0</td>\n",
              "      <td>1</td>\n",
              "      <td>1</td>\n",
              "      <td>1</td>\n",
              "    </tr>\n",
              "    <tr>\n",
              "      <th>1</th>\n",
              "      <td>204</td>\n",
              "      <td>1</td>\n",
              "      <td>-5.5</td>\n",
              "      <td>38</td>\n",
              "      <td>0.8</td>\n",
              "      <td>2000</td>\n",
              "      <td>-17.6</td>\n",
              "      <td>0.0</td>\n",
              "      <td>0.0</td>\n",
              "      <td>0.0</td>\n",
              "      <td>1</td>\n",
              "      <td>12</td>\n",
              "      <td>0</td>\n",
              "      <td>0</td>\n",
              "      <td>1</td>\n",
              "      <td>1</td>\n",
              "      <td>1</td>\n",
              "    </tr>\n",
              "    <tr>\n",
              "      <th>2</th>\n",
              "      <td>173</td>\n",
              "      <td>2</td>\n",
              "      <td>-6.0</td>\n",
              "      <td>39</td>\n",
              "      <td>1.0</td>\n",
              "      <td>2000</td>\n",
              "      <td>-17.7</td>\n",
              "      <td>0.0</td>\n",
              "      <td>0.0</td>\n",
              "      <td>0.0</td>\n",
              "      <td>1</td>\n",
              "      <td>12</td>\n",
              "      <td>0</td>\n",
              "      <td>0</td>\n",
              "      <td>1</td>\n",
              "      <td>1</td>\n",
              "      <td>1</td>\n",
              "    </tr>\n",
              "    <tr>\n",
              "      <th>3</th>\n",
              "      <td>107</td>\n",
              "      <td>3</td>\n",
              "      <td>-6.2</td>\n",
              "      <td>40</td>\n",
              "      <td>0.9</td>\n",
              "      <td>2000</td>\n",
              "      <td>-17.6</td>\n",
              "      <td>0.0</td>\n",
              "      <td>0.0</td>\n",
              "      <td>0.0</td>\n",
              "      <td>1</td>\n",
              "      <td>12</td>\n",
              "      <td>0</td>\n",
              "      <td>0</td>\n",
              "      <td>1</td>\n",
              "      <td>1</td>\n",
              "      <td>1</td>\n",
              "    </tr>\n",
              "    <tr>\n",
              "      <th>4</th>\n",
              "      <td>78</td>\n",
              "      <td>4</td>\n",
              "      <td>-6.0</td>\n",
              "      <td>36</td>\n",
              "      <td>2.3</td>\n",
              "      <td>2000</td>\n",
              "      <td>-18.6</td>\n",
              "      <td>0.0</td>\n",
              "      <td>0.0</td>\n",
              "      <td>0.0</td>\n",
              "      <td>1</td>\n",
              "      <td>12</td>\n",
              "      <td>0</td>\n",
              "      <td>0</td>\n",
              "      <td>1</td>\n",
              "      <td>1</td>\n",
              "      <td>1</td>\n",
              "    </tr>\n",
              "  </tbody>\n",
              "</table>\n",
              "</div>\n",
              "      <button class=\"colab-df-convert\" onclick=\"convertToInteractive('df-682cb7cb-c31b-4d06-a940-78c1803f724b')\"\n",
              "              title=\"Convert this dataframe to an interactive table.\"\n",
              "              style=\"display:none;\">\n",
              "        \n",
              "  <svg xmlns=\"http://www.w3.org/2000/svg\" height=\"24px\"viewBox=\"0 0 24 24\"\n",
              "       width=\"24px\">\n",
              "    <path d=\"M0 0h24v24H0V0z\" fill=\"none\"/>\n",
              "    <path d=\"M18.56 5.44l.94 2.06.94-2.06 2.06-.94-2.06-.94-.94-2.06-.94 2.06-2.06.94zm-11 1L8.5 8.5l.94-2.06 2.06-.94-2.06-.94L8.5 2.5l-.94 2.06-2.06.94zm10 10l.94 2.06.94-2.06 2.06-.94-2.06-.94-.94-2.06-.94 2.06-2.06.94z\"/><path d=\"M17.41 7.96l-1.37-1.37c-.4-.4-.92-.59-1.43-.59-.52 0-1.04.2-1.43.59L10.3 9.45l-7.72 7.72c-.78.78-.78 2.05 0 2.83L4 21.41c.39.39.9.59 1.41.59.51 0 1.02-.2 1.41-.59l7.78-7.78 2.81-2.81c.8-.78.8-2.07 0-2.86zM5.41 20L4 18.59l7.72-7.72 1.47 1.35L5.41 20z\"/>\n",
              "  </svg>\n",
              "      </button>\n",
              "      \n",
              "  <style>\n",
              "    .colab-df-container {\n",
              "      display:flex;\n",
              "      flex-wrap:wrap;\n",
              "      gap: 12px;\n",
              "    }\n",
              "\n",
              "    .colab-df-convert {\n",
              "      background-color: #E8F0FE;\n",
              "      border: none;\n",
              "      border-radius: 50%;\n",
              "      cursor: pointer;\n",
              "      display: none;\n",
              "      fill: #1967D2;\n",
              "      height: 32px;\n",
              "      padding: 0 0 0 0;\n",
              "      width: 32px;\n",
              "    }\n",
              "\n",
              "    .colab-df-convert:hover {\n",
              "      background-color: #E2EBFA;\n",
              "      box-shadow: 0px 1px 2px rgba(60, 64, 67, 0.3), 0px 1px 3px 1px rgba(60, 64, 67, 0.15);\n",
              "      fill: #174EA6;\n",
              "    }\n",
              "\n",
              "    [theme=dark] .colab-df-convert {\n",
              "      background-color: #3B4455;\n",
              "      fill: #D2E3FC;\n",
              "    }\n",
              "\n",
              "    [theme=dark] .colab-df-convert:hover {\n",
              "      background-color: #434B5C;\n",
              "      box-shadow: 0px 1px 3px 1px rgba(0, 0, 0, 0.15);\n",
              "      filter: drop-shadow(0px 1px 2px rgba(0, 0, 0, 0.3));\n",
              "      fill: #FFFFFF;\n",
              "    }\n",
              "  </style>\n",
              "\n",
              "      <script>\n",
              "        const buttonEl =\n",
              "          document.querySelector('#df-682cb7cb-c31b-4d06-a940-78c1803f724b button.colab-df-convert');\n",
              "        buttonEl.style.display =\n",
              "          google.colab.kernel.accessAllowed ? 'block' : 'none';\n",
              "\n",
              "        async function convertToInteractive(key) {\n",
              "          const element = document.querySelector('#df-682cb7cb-c31b-4d06-a940-78c1803f724b');\n",
              "          const dataTable =\n",
              "            await google.colab.kernel.invokeFunction('convertToInteractive',\n",
              "                                                     [key], {});\n",
              "          if (!dataTable) return;\n",
              "\n",
              "          const docLinkHtml = 'Like what you see? Visit the ' +\n",
              "            '<a target=\"_blank\" href=https://colab.research.google.com/notebooks/data_table.ipynb>data table notebook</a>'\n",
              "            + ' to learn more about interactive tables.';\n",
              "          element.innerHTML = '';\n",
              "          dataTable['output_type'] = 'display_data';\n",
              "          await google.colab.output.renderOutput(dataTable, element);\n",
              "          const docLink = document.createElement('div');\n",
              "          docLink.innerHTML = docLinkHtml;\n",
              "          element.appendChild(docLink);\n",
              "        }\n",
              "      </script>\n",
              "    </div>\n",
              "  </div>\n",
              "  "
            ]
          },
          "metadata": {},
          "execution_count": 9
        }
      ]
    },
    {
      "cell_type": "markdown",
      "source": [
        "#### **correlation matrix**"
      ],
      "metadata": {
        "id": "VxNUWoxvt06l"
      }
    },
    {
      "cell_type": "code",
      "source": [
        "corrMatrix = data.corr()\n",
        "plt.figure(figsize=(5, 10))\n",
        "heatmap = sns.heatmap(corrMatrix[['Rented Bike Count']].sort_values(by='Rented Bike Count', ascending=False), vmin=-1, vmax=1, annot=True, cmap='BrBG')\n",
        "heatmap.set_title('Features Correlating with Rented Bike Count', fontdict={'fontsize':18}, pad=16);"
      ],
      "metadata": {
        "id": "38TOulwbV6wz",
        "colab": {
          "base_uri": "https://localhost:8080/"
        },
        "outputId": "2b418b76-cd86-4281-c876-6238dd3327a4"
      },
      "execution_count": null,
      "outputs": [
        {
          "output_type": "display_data",
          "data": {
            "text/plain": [
              "<Figure size 360x720 with 2 Axes>"
            ],
            "image/png": "[encoded data removed]"
          },
          "metadata": {
            "needs_background": "light"
          }
        }
      ]
    },
    {
      "cell_type": "markdown",
      "source": [
        "### **Regarding correlation:**\n",
        "\n",
        "*  Values closer to 1 show a high correlation, and values closer to 0 show the \n",
        "lowest correlation.\n",
        "\n",
        "* A positive correlation value shows that the variables are positively correlated..\n",
        "* A negative correlation value shows that the variables are negatively correlated."
      ],
      "metadata": {
        "id": "xu3Vi_oyjkax"
      }
    },
    {
      "cell_type": "markdown",
      "source": [
        "### **Plot The Columns That Have a Negative Correlation with the labeled column**"
      ],
      "metadata": {
        "id": "bbZrjfiRWMga"
      }
    },
    {
      "cell_type": "code",
      "source": [
        "fig,(ax1,ax2,ax3,ax4) = plt.subplots(ncols=4,figsize=(15,6))\n",
        "sns.regplot(x=data['Humidity(%)'],y=data['Rented Bike Count'],ax=ax1)\n",
        "ax1.set(title='Relation between humidity and users')\n",
        "sns.regplot(x=data['Rainfall(mm)'],y=data['Rented Bike Count'],ax=ax2)\n",
        "ax2.set(title='Relation between Rainfall and users')\n",
        "sns.regplot(x=data['Snowfall (cm)'],y=data['Rented Bike Count'],ax=ax3)\n",
        "ax3.set(title='Relation between Snowfall and users')\n",
        "sns.regplot(x=data['Seasons_Winter'],y=data['Rented Bike Count'],ax=ax4)\n",
        "ax4.set(title='Relation between Seasons_Winter and users')"
      ],
      "metadata": {
        "id": "Wma5Kk5fWMCg",
        "colab": {
          "base_uri": "https://localhost:8080/"
        },
        "outputId": "073e69a6-f447-47a6-e202-b29ebeb2610f"
      },
      "execution_count": null,
      "outputs": [
        {
          "output_type": "execute_result",
          "data": {
            "text/plain": [
              "[Text(0.5, 1.0, 'Relation between Seasons_Winter and users')]"
            ]
          },
          "metadata": {},
          "execution_count": 11
        },
        {
          "output_type": "display_data",
          "data": {
            "text/plain": [
              "<Figure size 1080x432 with 4 Axes>"
            ],
            "image/png": "[encoded data removed]"
          },
          "metadata": {
            "needs_background": "light"
          }
        }
      ]
    },
    {
      "cell_type": "markdown",
      "source": [
        "#**Building Linear Regression**"
      ],
      "metadata": {
        "id": "WtxgtSJtov4s"
      }
    },
    {
      "cell_type": "markdown",
      "source": [
        "## **Before Removing Outliers**\n",
        "-----"
      ],
      "metadata": {
        "id": "y3w_A1N6s8XM"
      }
    },
    {
      "cell_type": "markdown",
      "source": [
        "### **1) Build Linear regression model (with highest correlation)**"
      ],
      "metadata": {
        "id": "ZhBtMi_vZSMD"
      }
    },
    {
      "cell_type": "markdown",
      "source": [
        "#### **Before Dimensionality Reduction (PCA & LDA)**"
      ],
      "metadata": {
        "id": "k3DPysCsnmLl"
      }
    },
    {
      "cell_type": "code",
      "source": [
        "X = data[['Hour','Temperature(°C)','Dew point temperature(°C)','Seasons_Summer','Solar Radiation (MJ/m2)']]\n",
        "Y = data['Rented Bike Count']"
      ],
      "metadata": {
        "id": "w3BsHL2caXl1"
      },
      "execution_count": null,
      "outputs": []
    },
    {
      "cell_type": "code",
      "source": [
        "X_train, X_test, y_train, y_test = train_test_split(X, Y, test_size=0.20, random_state=0)"
      ],
      "metadata": {
        "id": "F-v6i_dQikd5"
      },
      "execution_count": null,
      "outputs": []
    },
    {
      "cell_type": "code",
      "source": [
        "X_train, X_val, y_train, y_val = train_test_split(X_train, y_train, test_size=0.10, random_state=0)"
      ],
      "metadata": {
        "id": "qyqAL3-rimuO"
      },
      "execution_count": null,
      "outputs": []
    },
    {
      "cell_type": "code",
      "source": [
        "# Standardize data\n",
        "scaler = MinMaxScaler() \n",
        "X_train = scaler.fit_transform(X_train)\n",
        "X_test = scaler.transform(X_test)\n",
        "X_val = scaler.transform(X_val)\n",
        "  \n",
        "# Normalizing the Data\n",
        "X_train = normalize(X_train)\n",
        "X_test = normalize(X_test)\n",
        "X_val = normalize(X_val)"
      ],
      "metadata": {
        "id": "fPHSIOa6iphI"
      },
      "execution_count": null,
      "outputs": []
    },
    {
      "cell_type": "code",
      "source": [
        "model = LinearRegression()\n",
        "regressor = model.fit(X_train, y_train)\n",
        "y_pred = regressor.predict(X_test)"
      ],
      "metadata": {
        "id": "TPj8OeHCiq4W"
      },
      "execution_count": null,
      "outputs": []
    },
    {
      "cell_type": "markdown",
      "source": [
        "##### **Performance Measures for Regression**\n"
      ],
      "metadata": {
        "id": "B_y9BauCmGEe"
      }
    },
    {
      "cell_type": "markdown",
      "source": [
        "###### **Cross Validation with K-Fold**"
      ],
      "metadata": {
        "id": "5Y_loU4_8N9i"
      }
    },
    {
      "cell_type": "code",
      "source": [
        "print(f\"Model R-Square : {r2_score(y_test,y_pred)*100:.2f}%\")\n",
        "print(f\"Model MSE : {mean_squared_error(y_test,y_pred)*100:.2f}%\")\n",
        "accuracies = cross_val_score(estimator = model, X = X_train, y = y_train, cv = 5)\n",
        "print(\"Cross Val Accuracy: {:.2f} %\".format(accuracies.mean()*100))\n",
        "print(\"Cross Val Standard Deviation: {:.2f} %\".format(accuracies.std()*100))"
      ],
      "metadata": {
        "id": "yj10jKIo-Da9",
        "colab": {
          "base_uri": "https://localhost:8080/"
        },
        "outputId": "595a6fdc-63aa-4af2-a44f-a7c95fd780ab"
      },
      "execution_count": null,
      "outputs": [
        {
          "output_type": "stream",
          "name": "stdout",
          "text": [
            "Model R-Square : 31.97%\n",
            "Model MSE : 28471335.12%\n",
            "Cross Val Accuracy: 33.48 %\n",
            "Cross Val Standard Deviation: 1.65 %\n"
          ]
        }
      ]
    },
    {
      "cell_type": "markdown",
      "source": [
        "###### **Evaluation Matrix**"
      ],
      "metadata": {
        "id": "yoXYo-8Q-GzS"
      }
    },
    {
      "cell_type": "code",
      "source": [
        "from sklearn import metrics\n",
        "import numpy as np\n",
        "print ('Mean Absolute Error:' , metrics.mean_absolute_error(y_test, y_pred))\n",
        "print ('Mean Squared Error:' , metrics.mean_squared_error(y_test, y_pred))\n",
        "print ('Root Mean Squared Error:' , np.sqrt(metrics.mean_squared_error(y_test, y_pred)))"
      ],
      "metadata": {
        "colab": {
          "base_uri": "https://localhost:8080/"
        },
        "id": "n3cwomnbizoT",
        "outputId": "7ea7f1ae-d320-4cc7-d8f7-ed1826ffd9dc"
      },
      "execution_count": null,
      "outputs": [
        {
          "output_type": "stream",
          "name": "stdout",
          "text": [
            "Mean Absolute Error: 419.7005247069656\n",
            "Mean Squared Error: 284713.351188527\n",
            "Root Mean Squared Error: 533.5853738517642\n"
          ]
        }
      ]
    },
    {
      "cell_type": "markdown",
      "source": [
        "###### **plot the error**"
      ],
      "metadata": {
        "id": "q2bjNwgA-k8-"
      }
    },
    {
      "cell_type": "code",
      "source": [
        "sns.residplot(x=y_pred, y=y_test, data=data)  \n",
        "plt.show()"
      ],
      "metadata": {
        "colab": {
          "base_uri": "https://localhost:8080/"
        },
        "id": "_jLjxi6GivLU",
        "outputId": "9bf734ab-f22d-452c-967f-9520b1b7a20a"
      },
      "execution_count": null,
      "outputs": [
        {
          "output_type": "display_data",
          "data": {
            "text/plain": [
              "<Figure size 432x288 with 1 Axes>"
            ],
            "image/png": "[encoded data removed]"
          },
          "metadata": {
            "needs_background": "light"
          }
        }
      ]
    },
    {
      "cell_type": "markdown",
      "source": [
        "#### **After Dimensionality Reduction (PCA & LDA)**"
      ],
      "metadata": {
        "id": "cWFc-ITxn4ox"
      }
    },
    {
      "cell_type": "markdown",
      "source": [
        "##### **With PCA**"
      ],
      "metadata": {
        "id": "vifycKrgoOzy"
      }
    },
    {
      "cell_type": "code",
      "source": [
        "pca = PCA(n_components = 5) \n",
        "X_principal = pca.fit_transform(X_train) \n",
        "X_principal = pd.DataFrame(X_principal) \n",
        "X_principal.columns = ['P1', 'P2', 'P3','P4','P5'] \n",
        "X_PCA_test = pca.transform(X_test)\n",
        "X_PCA_val = pca.transform(X_val)"
      ],
      "metadata": {
        "id": "53-dD8jrn9nm"
      },
      "execution_count": null,
      "outputs": []
    },
    {
      "cell_type": "code",
      "source": [
        "model = LinearRegression()\n",
        "regressor = model.fit(X_principal, y_train)\n",
        "y_pred = regressor.predict(X_PCA_test)"
      ],
      "metadata": {
        "colab": {
          "base_uri": "https://localhost:8080/"
        },
        "id": "UfKgpLM_o_JN",
        "outputId": "313558ff-7e22-4ca5-fb05-d2cdec7d4c3c"
      },
      "execution_count": null,
      "outputs": [
        {
          "output_type": "stream",
          "name": "stderr",
          "text": [
            "/usr/local/lib/python3.8/dist-packages/sklearn/base.py:450: UserWarning: X does not have valid feature names, but LinearRegression was fitted with feature names\n",
            "  warnings.warn(\n"
          ]
        }
      ]
    },
    {
      "cell_type": "markdown",
      "source": [
        "###### **Performance Measures for Regression**\n"
      ],
      "metadata": {
        "id": "XIDMH9SW_lv_"
      }
    },
    {
      "cell_type": "markdown",
      "source": [
        "###### **Cross Validation with K-Fold**"
      ],
      "metadata": {
        "id": "oGenuuvB_8Ka"
      }
    },
    {
      "cell_type": "code",
      "source": [
        "print(f\"Model R-Square : {r2_score(y_test,y_pred)*100:.2f}%\")\n",
        "print(f\"Model MSE : {mean_squared_error(y_test,y_pred)*100:.2f}%\")\n",
        "accuracies = cross_val_score(estimator = model, X = X_principal, y = y_train, cv = 5)\n",
        "print(\"Cross Val Accuracy: {:.2f} %\".format(accuracies.mean()*100))\n",
        "print(\"Cross Val Standard Deviation: {:.2f} %\".format(accuracies.std()*100))"
      ],
      "metadata": {
        "id": "8d5xQO0n_nOl",
        "colab": {
          "base_uri": "https://localhost:8080/"
        },
        "outputId": "e89d4b55-4a0d-4aa1-e697-8d747b515853"
      },
      "execution_count": null,
      "outputs": [
        {
          "output_type": "stream",
          "name": "stdout",
          "text": [
            "Model R-Square : 31.97%\n",
            "Model MSE : 28471335.12%\n",
            "Cross Val Accuracy: 33.48 %\n",
            "Cross Val Standard Deviation: 1.65 %\n"
          ]
        }
      ]
    },
    {
      "cell_type": "markdown",
      "source": [
        "###### **Evaluation Matrix**"
      ],
      "metadata": {
        "id": "heuSUVDK_n4L"
      }
    },
    {
      "cell_type": "code",
      "source": [
        "print ('Mean Absolute Error:' , metrics.mean_absolute_error(y_test, y_pred))\n",
        "print ('Mean Squared Error:' , metrics.mean_squared_error(y_test, y_pred))\n",
        "print ('Root Mean Squared Error:' , np.sqrt(metrics.mean_squared_error(y_test, y_pred)))"
      ],
      "metadata": {
        "id": "G03QhXit_g2S",
        "colab": {
          "base_uri": "https://localhost:8080/"
        },
        "outputId": "11c616b8-873e-4a65-f19c-49d5fbb1c738"
      },
      "execution_count": null,
      "outputs": [
        {
          "output_type": "stream",
          "name": "stdout",
          "text": [
            "Mean Absolute Error: 419.7005247069656\n",
            "Mean Squared Error: 284713.351188527\n",
            "Root Mean Squared Error: 533.5853738517642\n"
          ]
        }
      ]
    },
    {
      "cell_type": "markdown",
      "source": [
        "##### **With LDA**"
      ],
      "metadata": {
        "id": "SzLNPd5hpe_T"
      }
    },
    {
      "cell_type": "code",
      "source": [
        "lda = LinearDiscriminantAnalysis(n_components=5, solver='svd')\n",
        "X_lda = lda.fit_transform(X_train, y_train)\n",
        "X_lda = pd.DataFrame(X_lda) \n",
        "X_lda.columns = ['P1', 'P2', 'P3','P4','P5']\n",
        "X_Ida_test = pca.transform(X_test)"
      ],
      "metadata": {
        "id": "rN4ym9ULo8cn"
      },
      "execution_count": null,
      "outputs": []
    },
    {
      "cell_type": "code",
      "source": [
        "lin_reg = LinearRegression()\n",
        "regressor = lin_reg.fit(X_lda, y_train)\n",
        "y_pred = regressor.predict(X_Ida_test)"
      ],
      "metadata": {
        "colab": {
          "base_uri": "https://localhost:8080/"
        },
        "id": "P1-AtlLcpkhu",
        "outputId": "df6dc9fb-45e7-4859-8ce8-76c5674a79ad"
      },
      "execution_count": null,
      "outputs": [
        {
          "output_type": "stream",
          "name": "stderr",
          "text": [
            "/usr/local/lib/python3.8/dist-packages/sklearn/base.py:450: UserWarning: X does not have valid feature names, but LinearRegression was fitted with feature names\n",
            "  warnings.warn(\n"
          ]
        }
      ]
    },
    {
      "cell_type": "markdown",
      "source": [
        "###### **Performance Measures for Regression**\n"
      ],
      "metadata": {
        "id": "-JK-9ilMAyQH"
      }
    },
    {
      "cell_type": "markdown",
      "source": [
        "###### **Cross Validation with K-Fold**"
      ],
      "metadata": {
        "id": "7aNxB0jxAyC3"
      }
    },
    {
      "cell_type": "code",
      "source": [
        "print(f\"Model R-Square : {r2_score(y_test,y_pred)*100:.2f}%\")\n",
        "print(f\"Model MSE : {mean_squared_error(y_test,y_pred)*100:.2f}%\")\n",
        "accuracies = cross_val_score(estimator = model, X = X_lda, y = y_train, cv = 5)\n",
        "print(\"Cross Val Accuracy: {:.2f} %\".format(accuracies.mean()*100))\n",
        "print(\"Cross Val Standard Deviation: {:.2f} %\".format(accuracies.std()*100))"
      ],
      "metadata": {
        "id": "NAIr7tJsA0D2",
        "colab": {
          "base_uri": "https://localhost:8080/"
        },
        "outputId": "f7089810-8f13-4dbf-e2a5-7e1966d52f09"
      },
      "execution_count": null,
      "outputs": [
        {
          "output_type": "stream",
          "name": "stdout",
          "text": [
            "Model R-Square : -2.35%\n",
            "Model MSE : 42836124.03%\n",
            "Cross Val Accuracy: 33.48 %\n",
            "Cross Val Standard Deviation: 1.65 %\n"
          ]
        }
      ]
    },
    {
      "cell_type": "markdown",
      "source": [
        "###### **Evaluation Matrix**"
      ],
      "metadata": {
        "id": "KVPOYrKIAzv3"
      }
    },
    {
      "cell_type": "code",
      "source": [
        "print ('Mean Absolute Error:' , metrics.mean_absolute_error(y_test, y_pred))\n",
        "print ('Mean Squared Error:' , metrics.mean_squared_error(y_test, y_pred))\n",
        "print ('Root Mean Squared Error:' , np.sqrt(metrics.mean_squared_error(y_test, y_pred)))"
      ],
      "metadata": {
        "id": "gMttVYp5AzTu",
        "colab": {
          "base_uri": "https://localhost:8080/"
        },
        "outputId": "756c930c-8dc5-4a00-948e-10a214baa567"
      },
      "execution_count": null,
      "outputs": [
        {
          "output_type": "stream",
          "name": "stdout",
          "text": [
            "Mean Absolute Error: 524.4865051714498\n",
            "Mean Squared Error: 428361.2403121587\n",
            "Root Mean Squared Error: 654.4931170853966\n"
          ]
        }
      ]
    },
    {
      "cell_type": "markdown",
      "source": [
        "#### **Observations:**\n",
        "* There is a high error rate when using the most closely related columns with the Target column.\n",
        "* The results without using Dimensional Reduction are better than the results after using it.\n",
        "* PCA gives better results than LDA."
      ],
      "metadata": {
        "id": "eO1rsFCI2AVO"
      }
    },
    {
      "cell_type": "markdown",
      "source": [
        "### **2) Build Linear regression model ( with Positive correlation Columns)**"
      ],
      "metadata": {
        "id": "0DPGwst5j5OO"
      }
    },
    {
      "cell_type": "markdown",
      "source": [
        "#### **Before Dimensionality Reduction (PCA & LDA)**"
      ],
      "metadata": {
        "id": "-aJFA4NZqTvz"
      }
    },
    {
      "cell_type": "code",
      "source": [
        "X = data.drop(columns=['Rented Bike Count','Snowfall (cm)','Rainfall(mm)','Humidity(%)','Seasons_Winter'])\n",
        "Y = data['Rented Bike Count']"
      ],
      "metadata": {
        "id": "lzXdcM0hkFRv"
      },
      "execution_count": null,
      "outputs": []
    },
    {
      "cell_type": "code",
      "source": [
        "X_train, X_test, y_train, y_test = train_test_split(X, Y, test_size=0.20, random_state=0)"
      ],
      "metadata": {
        "id": "srjNvjUukjZ9"
      },
      "execution_count": null,
      "outputs": []
    },
    {
      "cell_type": "code",
      "source": [
        "X_train, X_val, y_train, y_val = train_test_split(X_train, y_train, test_size=0.10, random_state=0)"
      ],
      "metadata": {
        "id": "6gfASemrkjHV"
      },
      "execution_count": null,
      "outputs": []
    },
    {
      "cell_type": "code",
      "source": [
        "# Standardize data\n",
        "scaler = MinMaxScaler() \n",
        "X_train = scaler.fit_transform(X_train)\n",
        "X_test = scaler.transform(X_test)\n",
        "X_val = scaler.transform(X_val)\n",
        "  \n",
        "# Normalizing the Data\n",
        "X_train = normalize(X_train)\n",
        "X_test = normalize(X_test)\n",
        "X_val = normalize(X_val)"
      ],
      "metadata": {
        "id": "W-HilBcQki3P"
      },
      "execution_count": null,
      "outputs": []
    },
    {
      "cell_type": "code",
      "source": [
        "model = LinearRegression()\n",
        "regressor = model.fit(X_train, y_train)\n",
        "y_pred = regressor.predict(X_test)"
      ],
      "metadata": {
        "id": "ctFeFo0OkwUv"
      },
      "execution_count": null,
      "outputs": []
    },
    {
      "cell_type": "markdown",
      "source": [
        "##### **Performance Measures for Regression**\n"
      ],
      "metadata": {
        "id": "HUso4Ezum7XW"
      }
    },
    {
      "cell_type": "markdown",
      "source": [
        "###### **Cross Validation with K-Fold**"
      ],
      "metadata": {
        "id": "OneST8EtBuoH"
      }
    },
    {
      "cell_type": "code",
      "source": [
        "print(f\"Model R-Square : {r2_score(y_test,y_pred)*100:.2f}%\")\n",
        "print(f\"Model MSE : {mean_squared_error(y_test,y_pred)*100:.2f}%\")\n",
        "accuracies = cross_val_score(estimator = model, X = X_val, y = y_val, cv = 6)\n",
        "print(\"Cross Val Accuracy: {:.2f} %\".format(accuracies.mean()*100))\n",
        "print(\"Cross Val Standard Deviation: {:.2f} %\".format(accuracies.std()*100))"
      ],
      "metadata": {
        "id": "VvKo4sGLB4ST",
        "colab": {
          "base_uri": "https://localhost:8080/"
        },
        "outputId": "8686a402-f845-48f5-bb54-1746ad380295"
      },
      "execution_count": null,
      "outputs": [
        {
          "output_type": "stream",
          "name": "stdout",
          "text": [
            "Model R-Square : 50.33%\n",
            "Model MSE : 20786285.30%\n",
            "Cross Val Accuracy: 52.97 %\n",
            "Cross Val Standard Deviation: 4.63 %\n"
          ]
        }
      ]
    },
    {
      "cell_type": "markdown",
      "source": [
        "###### **Evaluation Matrix**"
      ],
      "metadata": {
        "id": "u-8Jf6O0B4_U"
      }
    },
    {
      "cell_type": "code",
      "source": [
        "from sklearn import metrics\n",
        "import numpy as np\n",
        "print ('Mean Absolute Error:' , metrics.mean_absolute_error(y_test, y_pred))\n",
        "print ('Mean Squared Error:' , metrics.mean_squared_error(y_test, y_pred))\n",
        "print ('Root Mean Squared Error:' , np.sqrt(metrics.mean_squared_error(y_test, y_pred)))"
      ],
      "metadata": {
        "colab": {
          "base_uri": "https://localhost:8080/"
        },
        "id": "utxHnfXXlKIg",
        "outputId": "29244c1e-6f51-4368-8abf-8955235695d0"
      },
      "execution_count": null,
      "outputs": [
        {
          "output_type": "stream",
          "name": "stdout",
          "text": [
            "Mean Absolute Error: 351.3040851542571\n",
            "Mean Squared Error: 207862.85297945217\n",
            "Root Mean Squared Error: 455.9197878788024\n"
          ]
        }
      ]
    },
    {
      "cell_type": "markdown",
      "source": [
        "###### **plot the error**"
      ],
      "metadata": {
        "id": "X4KNllsjCAeE"
      }
    },
    {
      "cell_type": "code",
      "source": [
        "sns.residplot(x=y_pred, y=y_test, data=data)  \n",
        "plt.show()"
      ],
      "metadata": {
        "colab": {
          "base_uri": "https://localhost:8080/"
        },
        "id": "cfvltvM8lOEQ",
        "outputId": "3767a7cf-d752-4870-bd75-08ceb9b3feb6"
      },
      "execution_count": null,
      "outputs": [
        {
          "output_type": "display_data",
          "data": {
            "text/plain": [
              "<Figure size 432x288 with 1 Axes>"
            ],
            "image/png": "[encoded data removed]"
          },
          "metadata": {
            "needs_background": "light"
          }
        }
      ]
    },
    {
      "cell_type": "markdown",
      "source": [
        "#### **After Dimensionality Reduction (PCA & LDA)**"
      ],
      "metadata": {
        "id": "0w37VwbfqdYZ"
      }
    },
    {
      "cell_type": "markdown",
      "source": [
        "##### **With PCA**"
      ],
      "metadata": {
        "id": "qnj9-vEEqzZF"
      }
    },
    {
      "cell_type": "code",
      "source": [
        "pca = PCA(n_components = 5) \n",
        "X_principal = pca.fit_transform(X_train) \n",
        "X_principal = pd.DataFrame(X_principal) \n",
        "X_principal.columns = ['P1', 'P2', 'P3','P4','P5'] \n",
        "X_PCA_test = pca.transform(X_test)\n",
        "X_PCA_val = pca.transform(X_val)"
      ],
      "metadata": {
        "id": "PUG7n-dbqj0m"
      },
      "execution_count": null,
      "outputs": []
    },
    {
      "cell_type": "code",
      "source": [
        "model = LinearRegression()\n",
        "regressor = model.fit(X_principal, y_train)\n",
        "y_pred = regressor.predict(X_PCA_test)"
      ],
      "metadata": {
        "colab": {
          "base_uri": "https://localhost:8080/"
        },
        "id": "B-8TEv-qq-z-",
        "outputId": "93dca879-81cd-440e-b516-69c5bb0f4157"
      },
      "execution_count": null,
      "outputs": [
        {
          "output_type": "stream",
          "name": "stderr",
          "text": [
            "/usr/local/lib/python3.8/dist-packages/sklearn/base.py:450: UserWarning: X does not have valid feature names, but LinearRegression was fitted with feature names\n",
            "  warnings.warn(\n"
          ]
        }
      ]
    },
    {
      "cell_type": "markdown",
      "source": [
        "###### **Performance Measures for Regression**\n"
      ],
      "metadata": {
        "id": "IpYkjNomCIBO"
      }
    },
    {
      "cell_type": "markdown",
      "source": [
        "###### **Cross Validation with K-Fold**"
      ],
      "metadata": {
        "id": "Woc8x2MQCJHW"
      }
    },
    {
      "cell_type": "code",
      "source": [
        "print(f\"Model R-Square : {r2_score(y_test,y_pred)*100:.2f}%\")\n",
        "print(f\"Model MSE : {mean_squared_error(y_test,y_pred)*100:.2f}%\")\n",
        "accuracies = cross_val_score(estimator = model, X = X_principal, y = y_train, cv = 5)\n",
        "print(\"Cross Val Accuracy: {:.2f} %\".format(accuracies.mean()*100))\n",
        "print(\"Cross Val Standard Deviation: {:.2f} %\".format(accuracies.std()*100))"
      ],
      "metadata": {
        "id": "02s34U0wCJjf",
        "colab": {
          "base_uri": "https://localhost:8080/"
        },
        "outputId": "31cb59dc-b063-4573-870a-00f677e2f846"
      },
      "execution_count": null,
      "outputs": [
        {
          "output_type": "stream",
          "name": "stdout",
          "text": [
            "Model R-Square : 20.53%\n",
            "Model MSE : 33261869.40%\n",
            "Cross Val Accuracy: 23.19 %\n",
            "Cross Val Standard Deviation: 2.22 %\n"
          ]
        }
      ]
    },
    {
      "cell_type": "markdown",
      "source": [
        "###### **Evaluation Matrix**"
      ],
      "metadata": {
        "id": "TmpnaNm4CKNe"
      }
    },
    {
      "cell_type": "code",
      "source": [
        "print ('Mean Absolute Error:' , metrics.mean_absolute_error(y_test, y_pred))\n",
        "print ('Mean Squared Error:' , metrics.mean_squared_error(y_test, y_pred))\n",
        "print ('Root Mean Squared Error:' , np.sqrt(metrics.mean_squared_error(y_test, y_pred)))"
      ],
      "metadata": {
        "id": "1RSiosoXCKjv",
        "colab": {
          "base_uri": "https://localhost:8080/"
        },
        "outputId": "76fb3131-0572-4848-dfb6-b169b93e46ba"
      },
      "execution_count": null,
      "outputs": [
        {
          "output_type": "stream",
          "name": "stdout",
          "text": [
            "Mean Absolute Error: 440.87074741595046\n",
            "Mean Squared Error: 332618.69400736137\n",
            "Root Mean Squared Error: 576.7310413072643\n"
          ]
        }
      ]
    },
    {
      "cell_type": "markdown",
      "source": [
        "##### **With LDA**"
      ],
      "metadata": {
        "id": "In4w0ynrrC24"
      }
    },
    {
      "cell_type": "code",
      "source": [
        "lda = LinearDiscriminantAnalysis(n_components=5, solver='svd')\n",
        "X_lda = lda.fit_transform(X_train, y_train)\n",
        "X_lda = pd.DataFrame(X_lda) \n",
        "X_lda.columns = ['P1', 'P2', 'P3','P4','P5']\n",
        "X_Ida_test = pca.transform(X_test)"
      ],
      "metadata": {
        "id": "xMAqK8gorLMB"
      },
      "execution_count": null,
      "outputs": []
    },
    {
      "cell_type": "code",
      "source": [
        "lin_reg = LinearRegression()\n",
        "regressor = lin_reg.fit(X_lda, y_train)\n",
        "y_pred = regressor.predict(X_Ida_test)\n"
      ],
      "metadata": {
        "colab": {
          "base_uri": "https://localhost:8080/"
        },
        "id": "nJb6j9OXrHEv",
        "outputId": "1e0ca6c9-5148-489f-e745-e073cdaf0e7a"
      },
      "execution_count": null,
      "outputs": [
        {
          "output_type": "stream",
          "name": "stderr",
          "text": [
            "/usr/local/lib/python3.8/dist-packages/sklearn/base.py:450: UserWarning: X does not have valid feature names, but LinearRegression was fitted with feature names\n",
            "  warnings.warn(\n"
          ]
        }
      ]
    },
    {
      "cell_type": "markdown",
      "source": [
        "###### **Performance Measures for Regression**\n"
      ],
      "metadata": {
        "id": "kijo-AKeEJLv"
      }
    },
    {
      "cell_type": "markdown",
      "source": [
        "###### **Cross Validation with K-Fold**"
      ],
      "metadata": {
        "id": "_Ld2mR6aEJB7"
      }
    },
    {
      "cell_type": "code",
      "source": [
        "print(f\"Model R-Square : {r2_score(y_test,y_pred)*100:.2f}%\")\n",
        "print(f\"Model MSE : {mean_squared_error(y_test,y_pred)*100:.2f}%\")\n",
        "accuracies = cross_val_score(estimator = model, X = X_lda, y = y_train, cv = 5)\n",
        "print(\"Cross Val Accuracy: {:.2f} %\".format(accuracies.mean()*100))\n",
        "print(\"Cross Val Standard Deviation: {:.2f} %\".format(accuracies.std()*100))"
      ],
      "metadata": {
        "id": "qKYmgEbnEJsg",
        "colab": {
          "base_uri": "https://localhost:8080/"
        },
        "outputId": "d1adcda0-d87f-4d46-b056-6d147250a7c4"
      },
      "execution_count": null,
      "outputs": [
        {
          "output_type": "stream",
          "name": "stdout",
          "text": [
            "Model R-Square : 3.15%\n",
            "Model MSE : 40534232.84%\n",
            "Cross Val Accuracy: 49.73 %\n",
            "Cross Val Standard Deviation: 1.71 %\n"
          ]
        }
      ]
    },
    {
      "cell_type": "markdown",
      "source": [
        "###### **Evaluation Matrix**"
      ],
      "metadata": {
        "id": "MwKg_CSiEKVI"
      }
    },
    {
      "cell_type": "code",
      "source": [
        "print ('Mean Absolute Error:' , metrics.mean_absolute_error(y_test, y_pred))\n",
        "print ('Mean Squared Error:' , metrics.mean_squared_error(y_test, y_pred))\n",
        "print ('Root Mean Squared Error:' , np.sqrt(metrics.mean_squared_error(y_test, y_pred)))"
      ],
      "metadata": {
        "id": "Aq9CsLubEK5Q",
        "colab": {
          "base_uri": "https://localhost:8080/"
        },
        "outputId": "ad809417-da87-42d3-d6dc-2c18eaaa0cdc"
      },
      "execution_count": null,
      "outputs": [
        {
          "output_type": "stream",
          "name": "stdout",
          "text": [
            "Mean Absolute Error: 512.3217169679239\n",
            "Mean Squared Error: 405342.3284469492\n",
            "Root Mean Squared Error: 636.6650048863603\n"
          ]
        }
      ]
    },
    {
      "cell_type": "markdown",
      "source": [
        "#### **Observations:**\n",
        "* There is a high error rate when using columns that have positive correlation values with the target column, but the error rate is less than the error rate resulting from using the highest correlation columns .\n",
        "* The results without using Dimensional Reduction are better than the results after using it.\n",
        "* PCA gives better results than IDA. "
      ],
      "metadata": {
        "id": "C6PZWjF63zuT"
      }
    },
    {
      "cell_type": "markdown",
      "source": [
        "### **3) Build Linear regression model (  with All Columns)** "
      ],
      "metadata": {
        "id": "9bLf4IyFWaEa"
      }
    },
    {
      "cell_type": "markdown",
      "source": [
        "#### **Before Dimensionality Reduction (PCA & LDA)**"
      ],
      "metadata": {
        "id": "tM81NTg6rXmS"
      }
    },
    {
      "cell_type": "code",
      "source": [
        "X = data.drop(columns=['Rented Bike Count'])\n",
        "Y = data['Rented Bike Count']"
      ],
      "metadata": {
        "id": "NdbalBJsWXRj"
      },
      "execution_count": null,
      "outputs": []
    },
    {
      "cell_type": "code",
      "source": [
        "X_train, X_test, y_train, y_test = train_test_split(X, Y, test_size=0.20, random_state=0)"
      ],
      "metadata": {
        "id": "aHGVuI-xWzZ5"
      },
      "execution_count": null,
      "outputs": []
    },
    {
      "cell_type": "code",
      "source": [
        "X_train, X_val, y_train, y_val = train_test_split(X_train, y_train, test_size=0.10, random_state=0)"
      ],
      "metadata": {
        "id": "AjbK9d2qXVv5"
      },
      "execution_count": null,
      "outputs": []
    },
    {
      "cell_type": "code",
      "source": [
        "# Standardize data\n",
        "scaler = MinMaxScaler() \n",
        "X_train = scaler.fit_transform(X_train)\n",
        "X_test = scaler.transform(X_test)\n",
        "X_val = scaler.transform(X_val)\n",
        "  \n",
        "# Normalizing the Data\n",
        "X_train = normalize(X_train)\n",
        "X_test = normalize(X_test)\n",
        "X_val = normalize(X_val)"
      ],
      "metadata": {
        "id": "XQbWSe9nXbWq"
      },
      "execution_count": null,
      "outputs": []
    },
    {
      "cell_type": "code",
      "source": [
        "model = LinearRegression()\n",
        "regressor = model.fit(X_train, y_train)\n",
        "y_pred = regressor.predict(X_test)"
      ],
      "metadata": {
        "id": "XItYfs_4YuYG"
      },
      "execution_count": null,
      "outputs": []
    },
    {
      "cell_type": "markdown",
      "source": [
        "##### **Performance Measures for Regression**\n"
      ],
      "metadata": {
        "id": "7MbKlAOYm9iG"
      }
    },
    {
      "cell_type": "markdown",
      "source": [
        "###### **Cross Validation with K-Fold**"
      ],
      "metadata": {
        "id": "CtEbsl98GxeP"
      }
    },
    {
      "cell_type": "code",
      "source": [
        "print(f\"Model R-Square : {r2_score(y_test,y_pred)*100:.2f}%\")\n",
        "print(f\"Model MSE : {mean_squared_error(y_test,y_pred)*100:.2f}%\")\n",
        "accuracies = cross_val_score(estimator = model, X = X_val, y = y_val, cv = 6)\n",
        "print(\"Cross Val Accuracy: {:.2f} %\".format(accuracies.mean()*100))\n",
        "print(\"Cross Val Standard Deviation: {:.2f} %\".format(accuracies.std()*100))"
      ],
      "metadata": {
        "id": "WjBNZPutGzPx",
        "colab": {
          "base_uri": "https://localhost:8080/"
        },
        "outputId": "d6264aa3-f1c4-43b0-997e-9574ecbb2c55"
      },
      "execution_count": null,
      "outputs": [
        {
          "output_type": "stream",
          "name": "stdout",
          "text": [
            "Model R-Square : 54.30%\n",
            "Model MSE : 19126566.20%\n",
            "Cross Val Accuracy: 55.26 %\n",
            "Cross Val Standard Deviation: 5.03 %\n"
          ]
        }
      ]
    },
    {
      "cell_type": "markdown",
      "source": [
        "###### **Evaluation Matrix**"
      ],
      "metadata": {
        "id": "Vnw0y8e9G1pl"
      }
    },
    {
      "cell_type": "code",
      "source": [
        "from sklearn import metrics\n",
        "import numpy as np\n",
        "print ('Mean Absolute Error:' , metrics.mean_absolute_error(y_test, y_pred))\n",
        "print ('Mean Squared Error:' , metrics.mean_squared_error(y_test, y_pred))\n",
        "print ('Root Mean Squared Error:' , np.sqrt(metrics.mean_squared_error(y_test, y_pred)))"
      ],
      "metadata": {
        "id": "288BBEPIm-kD",
        "colab": {
          "base_uri": "https://localhost:8080/"
        },
        "outputId": "3b816761-997b-4caf-d179-debf5901e553"
      },
      "execution_count": null,
      "outputs": [
        {
          "output_type": "stream",
          "name": "stdout",
          "text": [
            "Mean Absolute Error: 334.69097774429395\n",
            "Mean Squared Error: 191265.66202195283\n",
            "Root Mean Squared Error: 437.3392985108391\n"
          ]
        }
      ]
    },
    {
      "cell_type": "markdown",
      "source": [
        "###### **plot the error**"
      ],
      "metadata": {
        "id": "p719F012G7se"
      }
    },
    {
      "cell_type": "code",
      "source": [
        "sns.residplot(x=y_pred, y=y_test, data=data)  \n",
        "ax = plt.axes()\n",
        "ax.set_facecolor(\"white\")\n",
        "plt.show()"
      ],
      "metadata": {
        "id": "VlOonpLaY1u9",
        "colab": {
          "base_uri": "https://localhost:8080/"
        },
        "outputId": "56ddf590-6f5e-4637-d3e4-668eb2378c83"
      },
      "execution_count": null,
      "outputs": [
        {
          "output_type": "stream",
          "name": "stderr",
          "text": [
            "<ipython-input-54-4f9301f38d9d>:2: MatplotlibDeprecationWarning: Adding an axes using the same arguments as a previous axes currently reuses the earlier instance.  In a future version, a new instance will always be created and returned.  Meanwhile, this warning can be suppressed, and the future behavior ensured, by passing a unique label to each axes instance.\n",
            "  ax = plt.axes()\n"
          ]
        },
        {
          "output_type": "display_data",
          "data": {
            "text/plain": [
              "<Figure size 432x288 with 1 Axes>"
            ],
            "image/png": "[encoded data removed]"
          },
          "metadata": {
            "needs_background": "light"
          }
        }
      ]
    },
    {
      "cell_type": "code",
      "source": [
        "plt.figure(figsize=(10,6))\n",
        "x = np.linspace(0,2500,100)\n",
        "y = np.linspace(0,2500,100)\n",
        "plt.plot(x, y, c='r')\n",
        "plt.gca().set_aspect('equal')\n",
        "plt.scatter(y_pred,y_test,color='b')\n",
        "plt.xlabel('Predicted')\n",
        "plt.ylabel('Actual')\n",
        "ax = plt.axes()\n",
        "ax.set_facecolor(\"white\")\n",
        "overlay=(f' R^2 is {round(model.score(X_test,y_test),5)}\\n Adj R^2 is {round(1-(1-model.score(X_test,y_test))*(len(y_test)-1)/(len(y_test)-X_test.shape[1]-1),5)}\\n RMSE is: {round(mean_squared_error(y_test,y_pred,squared=False),5)}')\n",
        "plt.annotate(s=overlay,xy=(2000,1500),size='x-large')"
      ],
      "metadata": {
        "id": "6xZyTSWZIvwF",
        "colab": {
          "base_uri": "https://localhost:8080/"
        },
        "outputId": "7f7ce0f6-0f12-4520-a1c0-0c01387b3ce3"
      },
      "execution_count": null,
      "outputs": [
        {
          "output_type": "stream",
          "name": "stderr",
          "text": [
            "<ipython-input-55-48b437072b07>:9: MatplotlibDeprecationWarning: Adding an axes using the same arguments as a previous axes currently reuses the earlier instance.  In a future version, a new instance will always be created and returned.  Meanwhile, this warning can be suppressed, and the future behavior ensured, by passing a unique label to each axes instance.\n",
            "  ax = plt.axes()\n"
          ]
        },
        {
          "output_type": "execute_result",
          "data": {
            "text/plain": [
              "Text(2000, 1500, ' R^2 is 0.543\\n Adj R^2 is 0.53878\\n RMSE is: 437.3393')"
            ]
          },
          "metadata": {},
          "execution_count": 55
        },
        {
          "output_type": "display_data",
          "data": {
            "text/plain": [
              "<Figure size 720x432 with 1 Axes>"
            ],
            "image/png": "[encoded data removed]"
          },
          "metadata": {
            "needs_background": "light"
          }
        }
      ]
    },
    {
      "cell_type": "markdown",
      "source": [
        "#### **After Dimensionality Reduction (PCA & LDA)**"
      ],
      "metadata": {
        "id": "qMPwBXdrrg-p"
      }
    },
    {
      "cell_type": "markdown",
      "source": [
        "##### **With PCA**"
      ],
      "metadata": {
        "id": "kDOFwMy4rmiI"
      }
    },
    {
      "cell_type": "code",
      "source": [
        "pca = PCA(n_components = 5) \n",
        "X_principal = pca.fit_transform(X_train) \n",
        "X_principal = pd.DataFrame(X_principal) \n",
        "X_principal.columns = ['P1', 'P2', 'P3','P4','P5'] \n",
        "X_PCA_test = pca.transform(X_test)\n",
        "X_PCA_val = pca.transform(X_val)"
      ],
      "metadata": {
        "id": "WBruCOJEri3P"
      },
      "execution_count": null,
      "outputs": []
    },
    {
      "cell_type": "code",
      "source": [
        "model = LinearRegression()\n",
        "regressor = model.fit(X_principal, y_train)\n",
        "y_pred = regressor.predict(X_PCA_test)"
      ],
      "metadata": {
        "id": "i_AyKPWGrrfu",
        "colab": {
          "base_uri": "https://localhost:8080/"
        },
        "outputId": "27431735-2551-4c85-e455-8d21f80870fb"
      },
      "execution_count": null,
      "outputs": [
        {
          "output_type": "stream",
          "name": "stderr",
          "text": [
            "/usr/local/lib/python3.8/dist-packages/sklearn/base.py:450: UserWarning: X does not have valid feature names, but LinearRegression was fitted with feature names\n",
            "  warnings.warn(\n"
          ]
        }
      ]
    },
    {
      "cell_type": "markdown",
      "source": [
        "###### **Performance Measures for Regression**\n"
      ],
      "metadata": {
        "id": "0D14zYNxIZF3"
      }
    },
    {
      "cell_type": "markdown",
      "source": [
        "###### **Cross Validation with K-Fold**"
      ],
      "metadata": {
        "id": "xN6Er8i5Hjoy"
      }
    },
    {
      "cell_type": "code",
      "source": [
        "print(f\"Model R-Square : {r2_score(y_test,y_pred)*100:.2f}%\")\n",
        "print(f\"Model MSE : {mean_squared_error(y_test,y_pred)*100:.2f}%\")\n",
        "accuracies = cross_val_score(estimator = model, X = X_PCA_val, y = y_val, cv = 5)\n",
        "print(\"Cross Val Accuracy: {:.2f} %\".format(accuracies.mean()*100))\n",
        "print(\"Cross Val Standard Deviation: {:.2f} %\".format(accuracies.std()*100))"
      ],
      "metadata": {
        "id": "q5n83Q5XOvWy",
        "colab": {
          "base_uri": "https://localhost:8080/"
        },
        "outputId": "c7d2fb9a-cf0c-409c-d100-f7565afe3c58"
      },
      "execution_count": null,
      "outputs": [
        {
          "output_type": "stream",
          "name": "stdout",
          "text": [
            "Model R-Square : 34.11%\n",
            "Model MSE : 27577262.18%\n",
            "Cross Val Accuracy: 41.66 %\n",
            "Cross Val Standard Deviation: 4.09 %\n"
          ]
        }
      ]
    },
    {
      "cell_type": "markdown",
      "source": [
        "###### **Evaluation Matrix**"
      ],
      "metadata": {
        "id": "8AvjR0tIHmDL"
      }
    },
    {
      "cell_type": "code",
      "source": [
        "print ('Mean Absolute Error:' , metrics.mean_absolute_error(y_test, y_pred))\n",
        "print ('Mean Squared Error:' , metrics.mean_squared_error(y_test, y_pred))\n",
        "print ('Root Mean Squared Error:' , np.sqrt(metrics.mean_squared_error(y_test, y_pred)))"
      ],
      "metadata": {
        "id": "QrTpdglTHmWz",
        "colab": {
          "base_uri": "https://localhost:8080/"
        },
        "outputId": "7864879c-fc1d-4a42-b331-db97949b0a32"
      },
      "execution_count": null,
      "outputs": [
        {
          "output_type": "stream",
          "name": "stdout",
          "text": [
            "Mean Absolute Error: 389.56265004728874\n",
            "Mean Squared Error: 275772.6217891192\n",
            "Root Mean Squared Error: 525.1405733602377\n"
          ]
        }
      ]
    },
    {
      "cell_type": "markdown",
      "source": [
        "##### **With LDA**"
      ],
      "metadata": {
        "id": "9gWHwLncrzcs"
      }
    },
    {
      "cell_type": "code",
      "source": [
        "lda = LinearDiscriminantAnalysis(n_components=5, solver='svd')\n",
        "X_lda = lda.fit_transform(X_train, y_train)\n",
        "X_lda = pd.DataFrame(X_lda) \n",
        "X_lda.columns = ['P1', 'P2', 'P3','P4','P5']\n",
        "X_Ida_test = pca.transform(X_test)"
      ],
      "metadata": {
        "id": "lI80_jAHruv1"
      },
      "execution_count": null,
      "outputs": []
    },
    {
      "cell_type": "code",
      "source": [
        "lin_reg = LinearRegression()\n",
        "regressor = lin_reg.fit(X_lda, y_train)\n",
        "y_pred = regressor.predict(X_Ida_test)"
      ],
      "metadata": {
        "id": "EgmX_2ZSr9S9",
        "colab": {
          "base_uri": "https://localhost:8080/"
        },
        "outputId": "fb64f27e-3223-4430-d4c8-7e813e629079"
      },
      "execution_count": null,
      "outputs": [
        {
          "output_type": "stream",
          "name": "stderr",
          "text": [
            "/usr/local/lib/python3.8/dist-packages/sklearn/base.py:450: UserWarning: X does not have valid feature names, but LinearRegression was fitted with feature names\n",
            "  warnings.warn(\n"
          ]
        }
      ]
    },
    {
      "cell_type": "markdown",
      "source": [
        "###### **Performance Measures for Regression**\n"
      ],
      "metadata": {
        "id": "S-EnUup1IlZe"
      }
    },
    {
      "cell_type": "markdown",
      "source": [
        "###### **Cross Validation with K-Fold**"
      ],
      "metadata": {
        "id": "A33vmAHIIjkO"
      }
    },
    {
      "cell_type": "code",
      "source": [
        "print(f\"Model R-Square : {r2_score(y_test,y_pred)*100:.2f}%\")\n",
        "print(f\"Model MSE : {mean_squared_error(y_test,y_pred)*100:.2f}%\")\n",
        "accuracies = cross_val_score(estimator = model, X = X_train, y = y_train, cv = 5)\n",
        "print(\"Cross Val Accuracy: {:.2f} %\".format(accuracies.mean()*100))\n",
        "print(\"Cross Val Standard Deviation: {:.2f} %\".format(accuracies.std()*100))"
      ],
      "metadata": {
        "id": "5WqLIUXUIj9N",
        "colab": {
          "base_uri": "https://localhost:8080/"
        },
        "outputId": "f7ee57f5-cf46-4322-d086-51d8ba8a716d"
      },
      "execution_count": null,
      "outputs": [
        {
          "output_type": "stream",
          "name": "stdout",
          "text": [
            "Model R-Square : -2.09%\n",
            "Model MSE : 42725825.13%\n",
            "Cross Val Accuracy: 54.01 %\n",
            "Cross Val Standard Deviation: 1.39 %\n"
          ]
        }
      ]
    },
    {
      "cell_type": "markdown",
      "source": [
        "###### **Evaluation Matrix**"
      ],
      "metadata": {
        "id": "EeNHbX8UIkVt"
      }
    },
    {
      "cell_type": "code",
      "source": [
        "print ('Mean Absolute Error:' , metrics.mean_absolute_error(y_test, y_pred))\n",
        "print ('Mean Squared Error:' , metrics.mean_squared_error(y_test, y_pred))\n",
        "print ('Root Mean Squared Error:' , np.sqrt(metrics.mean_squared_error(y_test, y_pred)))"
      ],
      "metadata": {
        "id": "yaIxPhfUIkwN",
        "colab": {
          "base_uri": "https://localhost:8080/"
        },
        "outputId": "06a54bdd-5c88-41fd-a9a8-f51413289b4e"
      },
      "execution_count": null,
      "outputs": [
        {
          "output_type": "stream",
          "name": "stdout",
          "text": [
            "Mean Absolute Error: 528.3119868009943\n",
            "Mean Squared Error: 427258.25126922363\n",
            "Root Mean Squared Error: 653.6499455130579\n"
          ]
        }
      ]
    },
    {
      "cell_type": "markdown",
      "source": [
        "## **Observations:**\n",
        "* There is a high error rate when using all columns, but the error rate is less than the error rate resulting from using the highest correlation columns & all positive correlations.\n",
        "* The results without using Dimensional Reduction are better than the results after using it.\n",
        "* PCA gives better results than IDA.\n",
        "* When looking at the data values again, we notice that there are outliers, so we will try to build a model after removing the outliers."
      ],
      "metadata": {
        "id": "V8iFjJ6L4nq4"
      }
    },
    {
      "cell_type": "markdown",
      "source": [
        "## **After Removing Outliers**\n",
        "-----"
      ],
      "metadata": {
        "id": "Hvhokgdv3fd2"
      }
    },
    {
      "cell_type": "markdown",
      "source": [
        "### **Data modification**"
      ],
      "metadata": {
        "id": "qUmZ9APi4lBn"
      }
    },
    {
      "cell_type": "markdown",
      "source": [
        "**Plot Rented Bike Count**"
      ],
      "metadata": {
        "id": "1_nr0KZz3vvX"
      }
    },
    {
      "cell_type": "code",
      "source": [
        "plt.figure(figsize=(12,6))\n",
        "plt.subplot(1,2,1)\n",
        "plt.title('Rented Bike Count Distribution Plot')\n",
        "sns.distplot(data['Rented Bike Count'])\n",
        "plt.subplot(1,2,2)\n",
        "plt.title('Rented Bike Count Box Plot')\n",
        "sns.boxplot(x=data['Rented Bike Count'])\n",
        "plt.show()"
      ],
      "metadata": {
        "colab": {
          "base_uri": "https://localhost:8080/",
          "height": 459
        },
        "id": "9_OwUkqd3p9-",
        "outputId": "4408a399-c7bd-4522-dea9-deed5dcc1385"
      },
      "execution_count": null,
      "outputs": [
        {
          "output_type": "stream",
          "name": "stderr",
          "text": [
            "/usr/local/lib/python3.8/dist-packages/seaborn/distributions.py:2619: FutureWarning: `distplot` is a deprecated function and will be removed in a future version. Please adapt your code to use either `displot` (a figure-level function with similar flexibility) or `histplot` (an axes-level function for histograms).\n",
            "  warnings.warn(msg, FutureWarning)\n"
          ]
        },
        {
          "output_type": "display_data",
          "data": {
            "text/plain": [
              "<Figure size 864x432 with 2 Axes>"
            ],
            "image/png": "[encoded data removed]"
          },
          "metadata": {
            "needs_background": "light"
          }
        }
      ]
    },
    {
      "cell_type": "markdown",
      "source": [
        "**Remove Outliers**"
      ],
      "metadata": {
        "id": "LPOMRCYi4Oxe"
      }
    },
    {
      "cell_type": "code",
      "source": [
        "print(\"Samples in train set with outliers: {}\".format(len(data)))\n",
        "q1 = data['Rented Bike Count'].quantile(0.25)\n",
        "q3 = data['Rented Bike Count'].quantile(0.75)\n",
        "iqr = q3 - q1\n",
        "lower_bound = q1 -(1.5 * iqr) \n",
        "upper_bound = q3 +(1.5 * iqr) \n",
        "final_data = data.loc[(data['Rented Bike Count'] >= lower_bound) & (data['Rented Bike Count'] <= upper_bound)]\n",
        "print(\"Samples in train set without outliers: {}\".format(len(final_data)))\n",
        "sns.boxplot(x=\"Rented Bike Count\", data=final_data)"
      ],
      "metadata": {
        "colab": {
          "base_uri": "https://localhost:8080/",
          "height": 331
        },
        "id": "26ankN0J4ThP",
        "outputId": "2fd59a8b-62c4-4996-b200-9eb866a9082f"
      },
      "execution_count": null,
      "outputs": [
        {
          "output_type": "stream",
          "name": "stdout",
          "text": [
            "Samples in train set with outliers: 8760\n",
            "Samples in train set without outliers: 8602\n"
          ]
        },
        {
          "output_type": "execute_result",
          "data": {
            "text/plain": [
              "<matplotlib.axes._subplots.AxesSubplot at 0x7faed05b74f0>"
            ]
          },
          "metadata": {},
          "execution_count": 13
        },
        {
          "output_type": "display_data",
          "data": {
            "text/plain": [
              "<Figure size 432x288 with 1 Axes>"
            ],
            "image/png": "[encoded data removed]"
          },
          "metadata": {
            "needs_background": "light"
          }
        }
      ]
    },
    {
      "cell_type": "markdown",
      "source": [
        "### **Building Linear Regression**"
      ],
      "metadata": {
        "id": "uXOuoQUz409P"
      }
    },
    {
      "cell_type": "markdown",
      "source": [
        "#### **build the model**"
      ],
      "metadata": {
        "id": "hLYUoymH4_-_"
      }
    },
    {
      "cell_type": "code",
      "source": [
        "X=final_data.drop(['Rented Bike Count'],axis=1)\n",
        "y=final_data['Rented Bike Count']"
      ],
      "metadata": {
        "id": "V-lQhvtE49S9"
      },
      "execution_count": null,
      "outputs": []
    },
    {
      "cell_type": "code",
      "source": [
        "X_train, X_test, y_train, y_test = train_test_split(X, y, test_size=0.20, random_state=0)"
      ],
      "metadata": {
        "id": "7gb2rxJC5lFO"
      },
      "execution_count": null,
      "outputs": []
    },
    {
      "cell_type": "code",
      "source": [
        "X_train, X_val, y_train, y_val = train_test_split(X_train, y_train, test_size=0.10, random_state=0)"
      ],
      "metadata": {
        "id": "axmL8oaf5oFi"
      },
      "execution_count": null,
      "outputs": []
    },
    {
      "cell_type": "code",
      "source": [
        "# Standardize data\n",
        "from sklearn.preprocessing import StandardScaler, normalize\n",
        "scaler = StandardScaler() \n",
        "X_train = scaler.fit_transform(X_train)\n",
        "X_test = scaler.transform(X_test)\n",
        "X_val = scaler.transform(X_val)\n",
        "  \n",
        "# Normalizing the Data\n",
        "X_train = normalize(X_train)\n",
        "X_test = normalize(X_test)\n",
        "X_val = normalize(X_val)"
      ],
      "metadata": {
        "id": "lgeGcR615q_i"
      },
      "execution_count": null,
      "outputs": []
    },
    {
      "cell_type": "code",
      "source": [
        "model = LinearRegression()\n",
        "regressor = model.fit(X_train, y_train)\n",
        "y_pred = regressor.predict(X_test)"
      ],
      "metadata": {
        "id": "1p-k1kRx5uEr"
      },
      "execution_count": null,
      "outputs": []
    },
    {
      "cell_type": "markdown",
      "source": [
        "#### **Performance Measures for Regression**\n"
      ],
      "metadata": {
        "id": "pcTyIKrK7n43"
      }
    },
    {
      "cell_type": "markdown",
      "source": [
        "###### **Cross Validation with K-Fold**"
      ],
      "metadata": {
        "id": "pkZUXvcSShtq"
      }
    },
    {
      "cell_type": "code",
      "source": [
        "print(f\"Model R-Square : {r2_score(y_test,y_pred)*100:.2f}%\")\n",
        "print(f\"Model MAE : {metrics.mean_absolute_error(y_test, y_pred):.2f}\")\n",
        "accuracies = cross_val_score(estimator = model, X = X_val, y = y_val, cv = 5)\n",
        "print(\"Cross Val Accuracy: {:.2f} %\".format(accuracies.mean()*100))\n",
        "print(\"Cross Val Standard Deviation: {:.2f} %\".format(accuracies.std()*100))"
      ],
      "metadata": {
        "id": "hRbKRun7SjLx",
        "colab": {
          "base_uri": "https://localhost:8080/"
        },
        "outputId": "5e81c6d6-2d93-4c31-f21d-733d525bd86d"
      },
      "execution_count": null,
      "outputs": [
        {
          "output_type": "stream",
          "name": "stdout",
          "text": [
            "Model R-Square : 60.83%\n",
            "Model MAE : 272.59\n",
            "Cross Val Accuracy: 57.12 %\n",
            "Cross Val Standard Deviation: 4.79 %\n"
          ]
        }
      ]
    },
    {
      "cell_type": "markdown",
      "source": [
        "###### **Evaluation Matrix**"
      ],
      "metadata": {
        "id": "NG4kLcWeSlVZ"
      }
    },
    {
      "cell_type": "code",
      "source": [
        "print (f'Mean Absolute Error:  {metrics.mean_absolute_error(y_test, y_pred):.2f}')\n",
        "print (f'Mean Squared Error: {metrics.mean_squared_error(y_test, y_pred):.2f}')\n",
        "print (f'Root Mean Squared Error: {np.sqrt(metrics.mean_squared_error(y_test, y_pred)):.2f}')\n"
      ],
      "metadata": {
        "colab": {
          "base_uri": "https://localhost:8080/"
        },
        "id": "pvK59cr35xtL",
        "outputId": "460d5c08-596f-43ae-dced-b6633c0ea644"
      },
      "execution_count": null,
      "outputs": [
        {
          "output_type": "stream",
          "name": "stdout",
          "text": [
            "Mean Absolute Error:  272.59\n",
            "Mean Squared Error: 131851.63\n",
            "Root Mean Squared Error: 363.11\n"
          ]
        }
      ]
    },
    {
      "cell_type": "markdown",
      "source": [
        "**Interpretation of R2 score:\n",
        " R2 = 0.61**\n",
        "* It can be referred that 61% of the variability of the dependent output attribute can be explained by the model while the remaining 39% of the variability is still unaccounted for.\n",
        "* R2 indicates the proportion of data points which lie within the line created by the regression equation. A higher value of R2 is desirable as it indicates better results."
      ],
      "metadata": {
        "id": "oxyduLFJnJ1u"
      }
    },
    {
      "cell_type": "markdown",
      "source": [
        "##### **the standard error**"
      ],
      "metadata": {
        "id": "2WdTNYmev2hR"
      }
    },
    {
      "cell_type": "code",
      "source": [
        "print(f'the standard error = {(((y_pred.mean() - y_test.mean()) / y_test.mean()) * 100):.2f}%')"
      ],
      "metadata": {
        "colab": {
          "base_uri": "https://localhost:8080/"
        },
        "id": "hc6iOKUqvruS",
        "outputId": "4e5ef049-f878-44cd-a4d0-1b598dddb3a4"
      },
      "execution_count": null,
      "outputs": [
        {
          "output_type": "stream",
          "name": "stdout",
          "text": [
            "the standard error = 0.54%\n"
          ]
        }
      ]
    },
    {
      "cell_type": "markdown",
      "source": [
        "#### **Scatter plot predicted vs. actual**"
      ],
      "metadata": {
        "id": "FHpYvrJS7Qf9"
      }
    },
    {
      "cell_type": "code",
      "source": [
        "plt.figure(figsize=(10,6))\n",
        "x = np.linspace(0,2500,100)\n",
        "y = np.linspace(0,2500,100)\n",
        "plt.plot(x, y, c='r')\n",
        "plt.gca().set_aspect('equal')\n",
        "plt.scatter(y_pred,y_test,color='b')\n",
        "plt.xlabel('Predicted')\n",
        "plt.ylabel('Actual')\n",
        "ax = plt.axes()\n",
        "ax.set_facecolor(\"white\")\n",
        "overlay=(f' R^2 is {round(model.score(X_test,y_test),5)}\\n Adj R^2 is {round(1-(1-model.score(X_test,y_test))*(len(y_test)-1)/(len(y_test)-X_test.shape[1]-1),5)}\\n RMSE is: {round(mean_squared_error(y_test,y_pred,squared=False),5)}')\n",
        "plt.annotate(s=overlay,xy=(2000,1500),size='x-large')\n"
      ],
      "metadata": {
        "id": "OG7IyIgD57k3",
        "colab": {
          "base_uri": "https://localhost:8080/",
          "height": 460
        },
        "outputId": "c0ca34f1-7805-4695-b5b5-fda8f57d61af"
      },
      "execution_count": null,
      "outputs": [
        {
          "output_type": "stream",
          "name": "stderr",
          "text": [
            "<ipython-input-24-48b437072b07>:9: MatplotlibDeprecationWarning: Adding an axes using the same arguments as a previous axes currently reuses the earlier instance.  In a future version, a new instance will always be created and returned.  Meanwhile, this warning can be suppressed, and the future behavior ensured, by passing a unique label to each axes instance.\n",
            "  ax = plt.axes()\n"
          ]
        },
        {
          "output_type": "execute_result",
          "data": {
            "text/plain": [
              "Text(2000, 1500, ' R^2 is 0.60829\\n Adj R^2 is 0.60461\\n RMSE is: 363.1138')"
            ]
          },
          "metadata": {},
          "execution_count": 24
        },
        {
          "output_type": "display_data",
          "data": {
            "text/plain": [
              "<Figure size 720x432 with 1 Axes>"
            ],
            "image/png": "[encoded data removed]"
          },
          "metadata": {
            "needs_background": "light"
          }
        }
      ]
    },
    {
      "cell_type": "code",
      "source": [
        "fig = plt.figure()\n",
        "sns.distplot((y_test - y_pred), bins = 20)\n",
        "fig.suptitle('Error Terms', fontsize = 20)                  # Plot heading \n",
        "plt.xlabel('Errors', fontsize = 18)"
      ],
      "metadata": {
        "id": "HU63xy4f_eyw",
        "colab": {
          "base_uri": "https://localhost:8080/",
          "height": 388
        },
        "outputId": "61033a67-420b-4303-aa41-5ab639477bb6"
      },
      "execution_count": null,
      "outputs": [
        {
          "output_type": "stream",
          "name": "stderr",
          "text": [
            "/usr/local/lib/python3.8/dist-packages/seaborn/distributions.py:2619: FutureWarning: `distplot` is a deprecated function and will be removed in a future version. Please adapt your code to use either `displot` (a figure-level function with similar flexibility) or `histplot` (an axes-level function for histograms).\n",
            "  warnings.warn(msg, FutureWarning)\n"
          ]
        },
        {
          "output_type": "execute_result",
          "data": {
            "text/plain": [
              "Text(0.5, 0, 'Errors')"
            ]
          },
          "metadata": {},
          "execution_count": 25
        },
        {
          "output_type": "display_data",
          "data": {
            "text/plain": [
              "<Figure size 432x288 with 1 Axes>"
            ],
            "image/png": "[encoded data removed]"
          },
          "metadata": {
            "needs_background": "light"
          }
        }
      ]
    },
    {
      "cell_type": "markdown",
      "source": [
        "## **Lasso Regression**\n",
        "-----"
      ],
      "metadata": {
        "id": "HasjDSM6rcQa"
      }
    },
    {
      "cell_type": "code",
      "source": [
        "X=final_data.drop(['Rented Bike Count'],axis=1)\n",
        "y=final_data['Rented Bike Count']"
      ],
      "metadata": {
        "id": "9sSikWakrs2O"
      },
      "execution_count": null,
      "outputs": []
    },
    {
      "cell_type": "code",
      "source": [
        "X_train, X_test, y_train, y_test = train_test_split(X, y, test_size=0.20, random_state=0)"
      ],
      "metadata": {
        "id": "VAHhC7mNadx4"
      },
      "execution_count": null,
      "outputs": []
    },
    {
      "cell_type": "code",
      "source": [
        "X_train, X_val, y_train, y_val = train_test_split(X_train, y_train, test_size=0.10, random_state=0)"
      ],
      "metadata": {
        "id": "Sh3ieYP7adlg"
      },
      "execution_count": null,
      "outputs": []
    },
    {
      "cell_type": "code",
      "source": [
        "# Standardize data\n",
        "from sklearn.preprocessing import StandardScaler, normalize\n",
        "scaler = StandardScaler() \n",
        "X_train = scaler.fit_transform(X_train)\n",
        "X_test = scaler.transform(X_test)\n",
        "X_val = scaler.transform(X_val)\n",
        "  \n",
        "# Normalizing the Data\n",
        "X_train = normalize(X_train)\n",
        "X_test = normalize(X_test)\n",
        "X_val = normalize(X_val)"
      ],
      "metadata": {
        "id": "XfEkdwWExNzT"
      },
      "execution_count": null,
      "outputs": []
    },
    {
      "cell_type": "code",
      "source": [
        "lasso = Lasso(alpha=0.1)\n",
        "lasso.fit(X_train, y_train)\n",
        "y_pred = lasso.predict(X_test)\n",
        "\n",
        "print (f'Mean Absolute Error:  {metrics.mean_absolute_error(y_test, y_pred):.2f}')\n",
        "print (f'Mean Squared Error: {metrics.mean_squared_error(y_test, y_pred):.2f}')\n",
        "print (f'Root Mean Squared Error: {np.sqrt(metrics.mean_squared_error(y_test, y_pred)):.2f}')"
      ],
      "metadata": {
        "colab": {
          "base_uri": "https://localhost:8080/"
        },
        "id": "3Wpsrv4asIEy",
        "outputId": "e82ad3f2-df20-465c-a170-7144c9a6d337"
      },
      "execution_count": null,
      "outputs": [
        {
          "output_type": "stream",
          "name": "stdout",
          "text": [
            "Mean Absolute Error:  272.70\n",
            "Mean Squared Error: 131853.18\n",
            "Root Mean Squared Error: 363.12\n"
          ]
        }
      ]
    },
    {
      "cell_type": "code",
      "source": [
        "accuracies = cross_val_score(estimator = lasso, X = X_val, y = y_val, cv = 5)\n",
        "print(f\"Model R-Square : {r2_score(y_test,y_pred)*100:.2f}%\")\n",
        "print(f\"Model MAE : {metrics.mean_absolute_error(y_test, y_pred):.2f}\")\n",
        "print(\"Cross Val Accuracy: {:.2f} %\".format(accuracies.mean()*100))\n",
        "print(\"Cross Val Standard Deviation: {:.2f} %\".format(accuracies.std()*100))"
      ],
      "metadata": {
        "colab": {
          "base_uri": "https://localhost:8080/"
        },
        "id": "bi2ZgupVsdTJ",
        "outputId": "d66953aa-b613-4d33-e16a-60466a458eae"
      },
      "execution_count": null,
      "outputs": [
        {
          "output_type": "stream",
          "name": "stdout",
          "text": [
            "Model R-Square : 60.83%\n",
            "Model MAE : 272.70\n",
            "Cross Val Accuracy: 57.27 %\n",
            "Cross Val Standard Deviation: 4.85 %\n"
          ]
        }
      ]
    },
    {
      "cell_type": "markdown",
      "source": [
        "## **Ridge Regression**\n",
        "-----"
      ],
      "metadata": {
        "id": "VTpk_F-OsDMK"
      }
    },
    {
      "cell_type": "code",
      "source": [
        "X=final_data.drop(['Rented Bike Count'],axis=1)\n",
        "y=final_data['Rented Bike Count']"
      ],
      "metadata": {
        "id": "7nxOoCsHxGsH"
      },
      "execution_count": null,
      "outputs": []
    },
    {
      "cell_type": "code",
      "source": [
        "X_train, X_test, y_train, y_test = train_test_split(X, y, test_size=0.20, random_state=0)"
      ],
      "metadata": {
        "id": "kl5f69O_xG_9"
      },
      "execution_count": null,
      "outputs": []
    },
    {
      "cell_type": "code",
      "source": [
        "X_train, X_val, y_train, y_val = train_test_split(X_train, y_train, test_size=0.10, random_state=0)"
      ],
      "metadata": {
        "id": "oOpMsyonxHNO"
      },
      "execution_count": null,
      "outputs": []
    },
    {
      "cell_type": "code",
      "source": [
        "# Standardize data\n",
        "from sklearn.preprocessing import StandardScaler, normalize\n",
        "scaler = StandardScaler() \n",
        "X_train = scaler.fit_transform(X_train)\n",
        "X_test = scaler.transform(X_test)\n",
        "X_val = scaler.transform(X_val)\n",
        "  \n",
        "# Normalizing the Data\n",
        "X_train = normalize(X_train)\n",
        "X_test = normalize(X_test)\n",
        "X_val = normalize(X_val)"
      ],
      "metadata": {
        "id": "49L-6_OBxXad"
      },
      "execution_count": null,
      "outputs": []
    },
    {
      "cell_type": "code",
      "source": [
        "ridge = Ridge(alpha = 0.1)\n",
        "ridge.fit(X_train, y_train)\n",
        "y_pred = ridge.predict(X_test)\n",
        "\n",
        "print('R^2: %.3f' % r2_score(y_test, y_pred))\n",
        "print (f'Mean Absolute Error:  {metrics.mean_absolute_error(y_test, y_pred):.2f}')\n",
        "print (f'Mean Squared Error: {metrics.mean_squared_error(y_test, y_pred):.2f}')\n",
        "print (f'Root Mean Squared Error: {np.sqrt(metrics.mean_squared_error(y_test, y_pred)):.2f}')"
      ],
      "metadata": {
        "colab": {
          "base_uri": "https://localhost:8080/"
        },
        "id": "KUpEsuP7tMer",
        "outputId": "d29b5296-5fa6-475a-8573-e28d8d7434f2"
      },
      "execution_count": null,
      "outputs": [
        {
          "output_type": "stream",
          "name": "stdout",
          "text": [
            "R^2: 0.608\n",
            "Mean Absolute Error:  272.57\n",
            "Mean Squared Error: 131851.75\n",
            "Root Mean Squared Error: 363.11\n"
          ]
        }
      ]
    },
    {
      "cell_type": "markdown",
      "source": [
        "###### **Cross Validation with K-Fold**"
      ],
      "metadata": {
        "id": "SK-RFtFlrtKp"
      }
    },
    {
      "cell_type": "code",
      "source": [
        "accuracies = cross_val_score(estimator = ridge, X = X_val, y = y_val, cv = 5)\n",
        "print(f\"Model R-Square : {r2_score(y_test,y_pred)*100:.2f}%\")\n",
        "print(f\"Model MAE : {metrics.mean_absolute_error(y_test, y_pred):.2f}\")\n",
        "print(\"Cross Val Accuracy: {:.2f} %\".format(accuracies.mean()*100))\n",
        "print(\"Cross Val Standard Deviation: {:.2f} %\".format(accuracies.std()*100))"
      ],
      "metadata": {
        "colab": {
          "base_uri": "https://localhost:8080/"
        },
        "id": "U6UPxwMRtRs_",
        "outputId": "449f6380-ed5b-41cf-a4a1-f0d8f54734fc"
      },
      "execution_count": null,
      "outputs": [
        {
          "output_type": "stream",
          "name": "stdout",
          "text": [
            "Model R-Square : 60.83%\n",
            "Model MAE : 272.57\n",
            "Cross Val Accuracy: 57.36 %\n",
            "Cross Val Standard Deviation: 4.86 %\n"
          ]
        }
      ]
    },
    {
      "cell_type": "markdown",
      "source": [
        "# **Conclusion :**\n",
        "* All Features are important in the process of building the model: When creating the model from all the features, the Error is less than the Error resulting from taking a certain number of Features.\n",
        "* PCA with 5 components much better than PCA with 3 components.\n",
        "* Accordingly, the PCA & IDA process increases the error rate compared to without the process.\n",
        "* The reason that LDA technique gave bad results that it separates or discriminates (hence the name LDA) training instances by their classes and there is no clear classes in this dataset.\n",
        "* There are many outliers which can affect the value of the error.\n",
        "* The lowest value of the error (MAE) was 272 when all the features were taken and the outliers were removed.\n",
        "* All Models have R-Square equal to 61% that well the dependent variable explains the variance of the independent variable\n",
        "* When calculating the standard error approximately using the equation We show that the error rate of the model befor removing outliers equal to 3.5%\n",
        "and After removing outliers equal to 0.81%.\n",
        "\n"
      ],
      "metadata": {
        "id": "FWhmxkPhrr0p"
      }
    },
    {
      "cell_type": "code",
      "source": [
        "from prettytable import PrettyTable\n",
        "table = PrettyTable()\n",
        "table.field_names = [\"Model\", \"Mean Squared Error\", \"R² score\",\"Mean Absolute Error\"]\n",
        "models = [\n",
        "LinearRegression(),\n",
        "Lasso(alpha=0.1),\n",
        "Ridge(alpha=0.1),\n",
        "]\n",
        "for model in models:\n",
        "  model.fit(X_train, y_train)\n",
        "  y_pred = model.predict(X_test)\n",
        "  mse = mean_squared_error(y_test, y_pred)\n",
        "  score = model.score(X_test, y_test)\n",
        "  mae = mean_absolute_error(y_test,y_pred)\n",
        "  table.add_row([type(model).__name__, format(mse, '.2f'), format(score, '.2f'),format(mae, '.2f')])\n",
        "print(table)"
      ],
      "metadata": {
        "colab": {
          "base_uri": "https://localhost:8080/"
        },
        "id": "YoSE6zJBpyWz",
        "outputId": "d6b694d1-744a-4b92-fe8a-e9dac159ab9f"
      },
      "execution_count": null,
      "outputs": [
        {
          "output_type": "stream",
          "name": "stdout",
          "text": [
            "+------------------+--------------------+----------+---------------------+\n",
            "|      Model       | Mean Squared Error | R² score | Mean Absolute Error |\n",
            "+------------------+--------------------+----------+---------------------+\n",
            "| LinearRegression |     131851.63      |   0.61   |        272.59       |\n",
            "|      Lasso       |     131853.18      |   0.61   |        272.70       |\n",
            "|      Ridge       |     131851.75      |   0.61   |        272.57       |\n",
            "+------------------+--------------------+----------+---------------------+\n"
          ]
        }
      ]
    },
    {
      "cell_type": "markdown",
      "source": [
        "## **Normlize The Target Column**"
      ],
      "metadata": {
        "id": "YADp28_-G_T5"
      }
    },
    {
      "cell_type": "code",
      "source": [
        "X=final_data.drop(['Rented Bike Count'],axis=1)\n",
        "y=final_data['Rented Bike Count']"
      ],
      "metadata": {
        "id": "3AHTrSMcHJim"
      },
      "execution_count": null,
      "outputs": []
    },
    {
      "cell_type": "code",
      "source": [
        "X_train, X_test, y_train, y_test = train_test_split(X, y, test_size=0.20, random_state=0)\n",
        "X_train, X_val, y_train, y_val = train_test_split(X_train, y_train, test_size=0.10, random_state=0)\n"
      ],
      "metadata": {
        "id": "Plv6oywDo5fw"
      },
      "execution_count": null,
      "outputs": []
    },
    {
      "cell_type": "code",
      "source": [
        "print(y_train.min(),y_train.max())"
      ],
      "metadata": {
        "colab": {
          "base_uri": "https://localhost:8080/"
        },
        "id": "3P1-UXj0o7dt",
        "outputId": "ff3ae0fa-3a55-4a4c-ede0-ff3bc370e0b7"
      },
      "execution_count": null,
      "outputs": [
        {
          "output_type": "stream",
          "name": "stdout",
          "text": [
            "0 2375\n"
          ]
        }
      ]
    },
    {
      "cell_type": "code",
      "source": [
        "\n",
        "# Standardize data\n",
        "from sklearn.preprocessing import StandardScaler, normalize\n",
        "scaler = StandardScaler() \n",
        "X_train = scaler.fit_transform(X_train)\n",
        "X_test = scaler.transform(X_test)\n",
        "X_val = scaler.transform(X_val)\n",
        "\n",
        "# Normalizing the Data\n",
        "X_train = normalize(X_train)\n",
        "X_test = normalize(X_test)\n",
        "X_val = normalize(X_val)\n",
        "y_train = normalize(np.array(y_train).reshape(-1,1))"
      ],
      "metadata": {
        "id": "ocH0qukfHN_w"
      },
      "execution_count": null,
      "outputs": []
    },
    {
      "cell_type": "code",
      "source": [
        "model = LinearRegression()\n",
        "regressor = model.fit(X_train, y_train)\n",
        "# y_pred = (regressor.predict(X_test))* 2375 \n",
        "y_pred = (regressor.predict(X_test))"
      ],
      "metadata": {
        "id": "Eczbnef7H_g7"
      },
      "execution_count": null,
      "outputs": []
    },
    {
      "cell_type": "code",
      "source": [
        "\"\"\"\n",
        "print(f\"Model R-Square : {r2_score(y_test, y_pred)*100:.2f}%\")\n",
        "print(f\"Model MAE : {metrics.mean_absolute_error(y_test, y_pred):.2f}\")\n",
        "accuracies = cross_val_score(estimator = model, X = X_val, y = y_val, cv = 5)\n",
        "print(\"Cross Val Accuracy: {:.2f} %\".format(accuracies.mean()*100))\n",
        "print(\"Cross Val Standard Deviation: {:.2f} %\".format(accuracies.std()*100))\n",
        "\n",
        "\"\"\"\n",
        "print(f\"Model R-Square : {r2_score(normalize(np.array(y_test).reshape(-1,1)), y_pred)*100:.2f}%\")\n",
        "print(f\"Model MAE : {metrics.mean_absolute_error(normalize(np.array(y_test).reshape(-1,1)), y_pred):.2f}\")\n",
        "accuracies = cross_val_score(estimator = model, X = X_val, y = normalize(np.array(y_val).reshape(-1,1)), cv = 5)\n",
        "print(\"Cross Val Accuracy: {:.2f} %\".format(accuracies.mean()*100))\n",
        "print(\"Cross Val Standard Deviation: {:.2f} %\".format(accuracies.std()*100))"
      ],
      "metadata": {
        "colab": {
          "base_uri": "https://localhost:8080/"
        },
        "id": "BwgQF7aZIIac",
        "outputId": "0900db21-3db7-47e3-f2a0-0baaafbd5458"
      },
      "execution_count": null,
      "outputs": [
        {
          "output_type": "stream",
          "name": "stdout",
          "text": [
            "Model R-Square : 99.54%\n",
            "Model MAE : 0.01\n",
            "Cross Val Accuracy: 99.40 %\n",
            "Cross Val Standard Deviation: 0.37 %\n"
          ]
        }
      ]
    },
    {
      "cell_type": "code",
      "source": [
        "\"\"\"\n",
        "print (f'Mean Absolute Error:  {metrics.mean_absolute_error(y_test, y_pred):.2f}')\n",
        "print (f'Mean Squared Error: {metrics.mean_squared_error(y_test, y_pred):.2f}')\n",
        "print (f'Root Mean Squared Error: {np.sqrt(metrics.mean_squared_error(y_test, y_pred)):.2f}')\n",
        "\"\"\"\n",
        "print (f'Mean Absolute Error:  {metrics.mean_absolute_error(normalize(np.array(y_test).reshape(-1,1)), y_pred):.2f}')\n",
        "print (f'Mean Squared Error: {metrics.mean_squared_error(normalize(np.array(y_test).reshape(-1,1)), y_pred):.2f}')\n",
        "print (f'Root Mean Squared Error: {np.sqrt(metrics.mean_squared_error(normalize(np.array(y_test).reshape(-1,1)), y_pred)):.2f}')"
      ],
      "metadata": {
        "colab": {
          "base_uri": "https://localhost:8080/"
        },
        "id": "xS_QBz6MIJ3h",
        "outputId": "89feba8c-7df6-40a8-d13c-951a113d2682"
      },
      "execution_count": null,
      "outputs": [
        {
          "output_type": "stream",
          "name": "stdout",
          "text": [
            "Mean Absolute Error:  0.01\n",
            "Mean Squared Error: 0.00\n",
            "Root Mean Squared Error: 0.01\n"
          ]
        }
      ]
    },
    {
      "cell_type": "code",
      "source": [
        "from prettytable import PrettyTable\n",
        "table = PrettyTable()\n",
        "table.field_names = [\"Model\", \"Mean Squared Error\", \"R² score\",\"Mean Absolute Error\"]\n",
        "models = [\n",
        "LinearRegression(),\n",
        "Lasso(alpha=0.1),\n",
        "Ridge(alpha=.1),\n",
        "]\n",
        "for model in models:\n",
        "  model.fit(X_train, y_train)\n",
        "  y_pred = model.predict(X_test)\n",
        "  mse = mean_squared_error(normalize(np.array(y_test).reshape(-1,1)), y_pred)\n",
        "  score = model.score(X_test, normalize(np.array(y_test).reshape(-1,1)))\n",
        "  mae = mean_absolute_error(normalize(np.array(y_test).reshape(-1,1)),y_pred)\n",
        "  table.add_row([type(model).__name__, format(mse, '.2f'), format(score, '.2f'),format(mae, '.2f')])\n",
        "print(table)"
      ],
      "metadata": {
        "colab": {
          "base_uri": "https://localhost:8080/"
        },
        "id": "rQLwoYIKINFJ",
        "outputId": "019b6770-8d20-405f-b7ad-4feb66ae711c"
      },
      "execution_count": null,
      "outputs": [
        {
          "output_type": "stream",
          "name": "stdout",
          "text": [
            "+------------------+--------------------+----------+---------------------+\n",
            "|      Model       | Mean Squared Error | R² score | Mean Absolute Error |\n",
            "+------------------+--------------------+----------+---------------------+\n",
            "| LinearRegression |        0.00        |   1.00   |         0.01        |\n",
            "|      Lasso       |        0.04        |  -0.00   |         0.07        |\n",
            "|      Ridge       |        0.00        |   1.00   |         0.01        |\n",
            "+------------------+--------------------+----------+---------------------+\n"
          ]
        }
      ]
    }
  ]
}